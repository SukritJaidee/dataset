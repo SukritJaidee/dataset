{
  "nbformat": 4,
  "nbformat_minor": 0,
  "metadata": {
    "colab": {
      "name": "forecast_eecu_by_rnn.ipynb",
      "version": "0.3.2",
      "provenance": [],
      "include_colab_link": true
    },
    "kernelspec": {
      "name": "python3",
      "display_name": "Python 3"
    }
  },
  "cells": [
    {
      "cell_type": "markdown",
      "metadata": {
        "id": "view-in-github",
        "colab_type": "text"
      },
      "source": [
        "[View in Colaboratory](https://colab.research.google.com/github/SukritJaidee/dataset/blob/master/forecast_eecu_by_rnn.ipynb)"
      ]
    },
    {
      "metadata": {
        "id": "sTquLYQzsaIs",
        "colab_type": "text"
      },
      "cell_type": "markdown",
      "source": [
        "# Edit 30/9/2018"
      ]
    },
    {
      "metadata": {
        "id": "e_5gvfBRsl7u",
        "colab_type": "text"
      },
      "cell_type": "markdown",
      "source": [
        "# import neccessary library"
      ]
    },
    {
      "metadata": {
        "id": "rQB66Se6sbDz",
        "colab_type": "code",
        "colab": {}
      },
      "cell_type": "code",
      "source": [
        "# import neccessary library\n",
        "import tensorflow as tf\n",
        "import numpy as np\n",
        "import pandas as pd\n",
        "import matplotlib.pyplot as plt\n",
        "import seaborn as sns\n",
        "\n",
        "from sklearn.preprocessing import MinMaxScaler\n",
        "%matplotlib inline"
      ],
      "execution_count": 0,
      "outputs": []
    },
    {
      "metadata": {
        "id": "u8e5xzLHs61c",
        "colab_type": "text"
      },
      "cell_type": "markdown",
      "source": [
        "**Install library for colab**"
      ]
    },
    {
      "metadata": {
        "id": "J8I4mie1s2PM",
        "colab_type": "code",
        "colab": {
          "base_uri": "https://localhost:8080/",
          "height": 35
        },
        "outputId": "ea2e1ac1-30f8-43af-e2e4-c98217841390"
      },
      "cell_type": "code",
      "source": [
        "!pip install xlrd"
      ],
      "execution_count": 2,
      "outputs": [
        {
          "output_type": "stream",
          "text": [
            "Requirement already satisfied: xlrd in /usr/local/lib/python3.6/dist-packages (1.1.0)\n"
          ],
          "name": "stdout"
        }
      ]
    },
    {
      "metadata": {
        "id": "t2LjjThusykT",
        "colab_type": "text"
      },
      "cell_type": "markdown",
      "source": [
        "# 1. Preprocessing Data\n",
        "# 1.1 Import and Cleansing Data"
      ]
    },
    {
      "metadata": {
        "id": "mkGl8Dewsra2",
        "colab_type": "code",
        "colab": {
          "resources": {
            "http://localhost:8080/nbextensions/google.colab/files.js": {
              "data": "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",
              "ok": true,
              "headers": [
                [
                  "content-type",
                  "application/javascript"
                ]
              ],
              "status": 200,
              "status_text": ""
            }
          },
          "base_uri": "https://localhost:8080/",
          "height": 73
        },
        "outputId": "aabc5766-f9a7-41c5-f200-ecde210de931"
      },
      "cell_type": "code",
      "source": [
        "from google.colab import files\n",
        "uploaded = files.upload()"
      ],
      "execution_count": 4,
      "outputs": [
        {
          "output_type": "display_data",
          "data": {
            "text/html": [
              "\n",
              "     <input type=\"file\" id=\"files-fd5a9169-6970-44bf-a223-9b68cba475b2\" name=\"files[]\" multiple disabled />\n",
              "     <output id=\"result-fd5a9169-6970-44bf-a223-9b68cba475b2\">\n",
              "      Upload widget is only available when the cell has been executed in the\n",
              "      current browser session. Please rerun this cell to enable.\n",
              "      </output>\n",
              "      <script src=\"/nbextensions/google.colab/files.js\"></script> "
            ],
            "text/plain": [
              "<IPython.core.display.HTML object>"
            ]
          },
          "metadata": {
            "tags": []
          }
        },
        {
          "output_type": "stream",
          "text": [
            "Saving solar_eecu_imputed2017to2018_ds30min_ema_SCK.xlsx to solar_eecu_imputed2017to2018_ds30min_ema_SCK (1).xlsx\n"
          ],
          "name": "stdout"
        }
      ]
    },
    {
      "metadata": {
        "id": "arZkX_u5tEwq",
        "colab_type": "code",
        "colab": {
          "base_uri": "https://localhost:8080/",
          "height": 106
        },
        "outputId": "10864b30-708a-4bb8-c9cf-1e50918ec95b"
      },
      "cell_type": "code",
      "source": [
        "solar_input = pd.read_excel('solar_eecu_imputed2017to2018_ds30min_ema_SCK.xlsx')\n",
        "solar_input.head(2)"
      ],
      "execution_count": 8,
      "outputs": [
        {
          "output_type": "execute_result",
          "data": {
            "text/html": [
              "<div>\n",
              "<style scoped>\n",
              "    .dataframe tbody tr th:only-of-type {\n",
              "        vertical-align: middle;\n",
              "    }\n",
              "\n",
              "    .dataframe tbody tr th {\n",
              "        vertical-align: top;\n",
              "    }\n",
              "\n",
              "    .dataframe thead th {\n",
              "        text-align: right;\n",
              "    }\n",
              "</style>\n",
              "<table border=\"1\" class=\"dataframe\">\n",
              "  <thead>\n",
              "    <tr style=\"text-align: right;\">\n",
              "      <th></th>\n",
              "      <th>date_time</th>\n",
              "      <th>EMA_now</th>\n",
              "      <th>Iradiance</th>\n",
              "      <th>Power</th>\n",
              "      <th>Temperature</th>\n",
              "    </tr>\n",
              "  </thead>\n",
              "  <tbody>\n",
              "    <tr>\n",
              "      <th>0</th>\n",
              "      <td>2017-01-01 00:00:00</td>\n",
              "      <td>0.0</td>\n",
              "      <td>0.0</td>\n",
              "      <td>0.0</td>\n",
              "      <td>26.450000</td>\n",
              "    </tr>\n",
              "    <tr>\n",
              "      <th>1</th>\n",
              "      <td>2017-01-01 00:30:00</td>\n",
              "      <td>0.0</td>\n",
              "      <td>0.0</td>\n",
              "      <td>0.0</td>\n",
              "      <td>26.081818</td>\n",
              "    </tr>\n",
              "  </tbody>\n",
              "</table>\n",
              "</div>"
            ],
            "text/plain": [
              "            date_time  EMA_now  Iradiance  Power  Temperature\n",
              "0 2017-01-01 00:00:00      0.0        0.0    0.0    26.450000\n",
              "1 2017-01-01 00:30:00      0.0        0.0    0.0    26.081818"
            ]
          },
          "metadata": {
            "tags": []
          },
          "execution_count": 8
        }
      ]
    },
    {
      "metadata": {
        "id": "IgODSYR4tbws",
        "colab_type": "code",
        "colab": {
          "base_uri": "https://localhost:8080/",
          "height": 35
        },
        "outputId": "35b2c43c-8940-4ff6-bee1-c60da5b14bf9"
      },
      "cell_type": "code",
      "source": [
        "solar_input.drop(('date_time'), axis=1, inplace=True)\n",
        "print(solar_input.shape)"
      ],
      "execution_count": 9,
      "outputs": [
        {
          "output_type": "stream",
          "text": [
            "(26208, 4)\n"
          ],
          "name": "stdout"
        }
      ]
    },
    {
      "metadata": {
        "id": "JDbUxJrFthRT",
        "colab_type": "code",
        "colab": {
          "base_uri": "https://localhost:8080/",
          "height": 106
        },
        "outputId": "cf5426f5-be71-4280-92fa-6bcbd7c90d6f"
      },
      "cell_type": "code",
      "source": [
        "solar_input.head(2)"
      ],
      "execution_count": 10,
      "outputs": [
        {
          "output_type": "execute_result",
          "data": {
            "text/html": [
              "<div>\n",
              "<style scoped>\n",
              "    .dataframe tbody tr th:only-of-type {\n",
              "        vertical-align: middle;\n",
              "    }\n",
              "\n",
              "    .dataframe tbody tr th {\n",
              "        vertical-align: top;\n",
              "    }\n",
              "\n",
              "    .dataframe thead th {\n",
              "        text-align: right;\n",
              "    }\n",
              "</style>\n",
              "<table border=\"1\" class=\"dataframe\">\n",
              "  <thead>\n",
              "    <tr style=\"text-align: right;\">\n",
              "      <th></th>\n",
              "      <th>EMA_now</th>\n",
              "      <th>Iradiance</th>\n",
              "      <th>Power</th>\n",
              "      <th>Temperature</th>\n",
              "    </tr>\n",
              "  </thead>\n",
              "  <tbody>\n",
              "    <tr>\n",
              "      <th>0</th>\n",
              "      <td>0.0</td>\n",
              "      <td>0.0</td>\n",
              "      <td>0.0</td>\n",
              "      <td>26.450000</td>\n",
              "    </tr>\n",
              "    <tr>\n",
              "      <th>1</th>\n",
              "      <td>0.0</td>\n",
              "      <td>0.0</td>\n",
              "      <td>0.0</td>\n",
              "      <td>26.081818</td>\n",
              "    </tr>\n",
              "  </tbody>\n",
              "</table>\n",
              "</div>"
            ],
            "text/plain": [
              "   EMA_now  Iradiance  Power  Temperature\n",
              "0      0.0        0.0    0.0    26.450000\n",
              "1      0.0        0.0    0.0    26.081818"
            ]
          },
          "metadata": {
            "tags": []
          },
          "execution_count": 10
        }
      ]
    },
    {
      "metadata": {
        "id": "ZNmfKxw0ukkM",
        "colab_type": "text"
      },
      "cell_type": "markdown",
      "source": [
        "# 2. Preprocessing"
      ]
    },
    {
      "metadata": {
        "id": "4TEeuzSFt1AI",
        "colab_type": "code",
        "colab": {}
      },
      "cell_type": "code",
      "source": [
        "#EMA 8 จุด\n",
        "EMA_30min = solar_input.iloc[1:,0] #เอา col EMA_now ตั้งแต่แถวที่ 1 มา ไม่เอาแถวที่ 0\n",
        "EMA_60min = solar_input.iloc[2:,0] #เอา col EMA_now ตั้งแต่แถวที่ 2 มา ไม่เอาแถวที่ 0-1\n",
        "EMA_90min = solar_input.iloc[3:,0] #เอา col EMA_now ตั้งแต่แถวที่ 3 มา ไม่เอาแถวที่ 0-2\n",
        "EMA_120min = solar_input.iloc[4:,0] #เอา col EMA_now ตั้งแต่แถวที่ 4 มา ไม่เอาแถวที่ 0-3\n",
        "EMA_150min = solar_input.iloc[5:,0]\n",
        "EMA_180min = solar_input.iloc[6:,0]\n",
        "EMA_210min = solar_input.iloc[7:,0]\n",
        "EMA_240min = solar_input.iloc[8:,0] #เอา col EMA_now ตั้งแต่แถวที่ 8 มา ไม่เอาแถวที่ 0-7\n",
        "\n",
        "#power 7 จุด\n",
        "Power_30min = solar_input.iloc[1:,2] #เอา col Power ตั้งแต่แถวที่ 1 มา ไม่เอาแถวที่ 0\n",
        "Power_60min = solar_input.iloc[2:,2] #เอา col Power ตั้งแต่แถวที่ 2 มา ไม่เอาแถวที่ 0-1\n",
        "Power_90min = solar_input.iloc[3:,2]\n",
        "Power_120min = solar_input.iloc[4:,2]\n",
        "Power_150min = solar_input.iloc[5:,2]\n",
        "Power_180min = solar_input.iloc[6:,2]\n",
        "Power_210min = solar_input.iloc[7:,2] #เอา col Power ตั้งแต่แถวที่ 7 มา ไม่เอาแถวที่ 0-6\n",
        "\n",
        "zero_1 = pd.Series([0]*1) #สร้าง data Series ของศูนย์ 1 ตัว\n",
        "zero_2 = pd.Series([0]*2) #สร้าง data Series ของศูนย์ 2 ตัว\n",
        "zero_3 = pd.Series([0]*3)\n",
        "zero_4 = pd.Series([0]*4)\n",
        "zero_5 = pd.Series([0]*5)\n",
        "zero_6 = pd.Series([0]*6)\n",
        "zero_7 = pd.Series([0]*7)\n",
        "zero_8 = pd.Series([0]*8) #สร้าง data Series ของศูนย์ 8 ตัว"
      ],
      "execution_count": 0,
      "outputs": []
    },
    {
      "metadata": {
        "id": "FtCBWfzBupBU",
        "colab_type": "code",
        "colab": {}
      },
      "cell_type": "code",
      "source": [
        "#ทำการ shift ค่าเพื่อทำการ predict\n",
        "EMA_30min=pd.DataFrame(EMA_30min.append(zero_1, ignore_index=True), columns=['EMA_30min'])  #เอา \"0\" 1 ตัวมาต่อท้าย\n",
        "EMA_60min=pd.DataFrame(EMA_60min.append(zero_2, ignore_index=True),columns=['EMA_60min']) #เอา \"0\" 2 ตัวมาต่อท้าย\n",
        "EMA_90min=pd.DataFrame(EMA_90min.append(zero_3, ignore_index=True),columns=['EMA_90min'])\n",
        "EMA_120min=pd.DataFrame(EMA_120min.append(zero_4, ignore_index=True),columns=['EMA_120min'])\n",
        "EMA_150min=pd.DataFrame(EMA_150min.append(zero_5, ignore_index=True),columns=['EMA_150min'])\n",
        "EMA_180min=pd.DataFrame(EMA_180min.append(zero_6, ignore_index=True),columns=['EMA_180min'])\n",
        "EMA_210min=pd.DataFrame(EMA_210min.append(zero_7, ignore_index=True),columns=['EMA_210min'])\n",
        "EMA_240min=pd.DataFrame(EMA_240min.append(zero_8, ignore_index=True),columns=['EMA_240min']) #เอา \"0\" 8 ตัวมาต่อท้าย\n",
        "\n",
        "Power_30min=pd.DataFrame(Power_30min.append(zero_1, ignore_index=True),columns=['Power_30min']) #เอา \"0\" 1 ตัวมาต่อท้าย\n",
        "Power_60min=pd.DataFrame(Power_60min.append(zero_2, ignore_index=True),columns=['Power_60min']) #เอา \"0\" 2 ตัวมาต่อท้าย\n",
        "Power_90min=pd.DataFrame(Power_90min.append(zero_3, ignore_index=True),columns=['Power_90min'])\n",
        "Power_120min=pd.DataFrame(Power_120min.append(zero_4, ignore_index=True),columns=['Power_120min'])\n",
        "Power_150min=pd.DataFrame(Power_150min.append(zero_5, ignore_index=True),columns=['Power_150min'])\n",
        "Power_180min=pd.DataFrame(Power_180min.append(zero_6, ignore_index=True),columns=['Power_180min'])\n",
        "Power_210min=pd.DataFrame(Power_210min.append(zero_7, ignore_index=True),columns=['Power_210min']) #เอา \"0\" 7 ตัวมาต่อท้าย"
      ],
      "execution_count": 0,
      "outputs": []
    },
    {
      "metadata": {
        "id": "4SR99-ydzYOX",
        "colab_type": "code",
        "colab": {
          "base_uri": "https://localhost:8080/",
          "height": 1886
        },
        "outputId": "9abc8586-374f-4847-b5bb-659ec8105f2a"
      },
      "cell_type": "code",
      "source": [
        "ggg = pd.concat([solar_input.iloc[:,0],EMA_30min,EMA_60min,EMA_90min,EMA_120min,EMA_150min,EMA_180min,EMA_210min,EMA_240min, solar_input.iloc[:,1], solar_input.iloc[:,3], solar_input.iloc[:,2],Power_30min,Power_60min,Power_90min,Power_120min,Power_150min,Power_180min,Power_210min], axis = 1)\n",
        "ggg"
      ],
      "execution_count": 15,
      "outputs": [
        {
          "output_type": "execute_result",
          "data": {
            "text/html": [
              "<div>\n",
              "<style scoped>\n",
              "    .dataframe tbody tr th:only-of-type {\n",
              "        vertical-align: middle;\n",
              "    }\n",
              "\n",
              "    .dataframe tbody tr th {\n",
              "        vertical-align: top;\n",
              "    }\n",
              "\n",
              "    .dataframe thead th {\n",
              "        text-align: right;\n",
              "    }\n",
              "</style>\n",
              "<table border=\"1\" class=\"dataframe\">\n",
              "  <thead>\n",
              "    <tr style=\"text-align: right;\">\n",
              "      <th></th>\n",
              "      <th>EMA_now</th>\n",
              "      <th>EMA_30min</th>\n",
              "      <th>EMA_60min</th>\n",
              "      <th>EMA_90min</th>\n",
              "      <th>EMA_120min</th>\n",
              "      <th>EMA_150min</th>\n",
              "      <th>EMA_180min</th>\n",
              "      <th>EMA_210min</th>\n",
              "      <th>EMA_240min</th>\n",
              "      <th>Iradiance</th>\n",
              "      <th>Temperature</th>\n",
              "      <th>Power</th>\n",
              "      <th>Power_30min</th>\n",
              "      <th>Power_60min</th>\n",
              "      <th>Power_90min</th>\n",
              "      <th>Power_120min</th>\n",
              "      <th>Power_150min</th>\n",
              "      <th>Power_180min</th>\n",
              "      <th>Power_210min</th>\n",
              "    </tr>\n",
              "  </thead>\n",
              "  <tbody>\n",
              "    <tr>\n",
              "      <th>0</th>\n",
              "      <td>0.000000e+00</td>\n",
              "      <td>0.000000e+00</td>\n",
              "      <td>0.000000e+00</td>\n",
              "      <td>0.000000e+00</td>\n",
              "      <td>0.000000e+00</td>\n",
              "      <td>0.000000e+00</td>\n",
              "      <td>0.000000e+00</td>\n",
              "      <td>0.000000e+00</td>\n",
              "      <td>0.000000e+00</td>\n",
              "      <td>0.000000</td>\n",
              "      <td>26.450000</td>\n",
              "      <td>0.000000</td>\n",
              "      <td>0.000000</td>\n",
              "      <td>0.000000</td>\n",
              "      <td>0.000000</td>\n",
              "      <td>0.000000</td>\n",
              "      <td>0.000000</td>\n",
              "      <td>0.000000</td>\n",
              "      <td>0.000000</td>\n",
              "    </tr>\n",
              "    <tr>\n",
              "      <th>1</th>\n",
              "      <td>0.000000e+00</td>\n",
              "      <td>0.000000e+00</td>\n",
              "      <td>0.000000e+00</td>\n",
              "      <td>0.000000e+00</td>\n",
              "      <td>0.000000e+00</td>\n",
              "      <td>0.000000e+00</td>\n",
              "      <td>0.000000e+00</td>\n",
              "      <td>0.000000e+00</td>\n",
              "      <td>0.000000e+00</td>\n",
              "      <td>0.000000</td>\n",
              "      <td>26.081818</td>\n",
              "      <td>0.000000</td>\n",
              "      <td>0.000000</td>\n",
              "      <td>0.000000</td>\n",
              "      <td>0.000000</td>\n",
              "      <td>0.000000</td>\n",
              "      <td>0.000000</td>\n",
              "      <td>0.000000</td>\n",
              "      <td>0.000000</td>\n",
              "    </tr>\n",
              "    <tr>\n",
              "      <th>2</th>\n",
              "      <td>0.000000e+00</td>\n",
              "      <td>0.000000e+00</td>\n",
              "      <td>0.000000e+00</td>\n",
              "      <td>0.000000e+00</td>\n",
              "      <td>0.000000e+00</td>\n",
              "      <td>0.000000e+00</td>\n",
              "      <td>0.000000e+00</td>\n",
              "      <td>0.000000e+00</td>\n",
              "      <td>0.000000e+00</td>\n",
              "      <td>0.000000</td>\n",
              "      <td>25.881818</td>\n",
              "      <td>0.000000</td>\n",
              "      <td>0.000000</td>\n",
              "      <td>0.000000</td>\n",
              "      <td>0.000000</td>\n",
              "      <td>0.000000</td>\n",
              "      <td>0.000000</td>\n",
              "      <td>0.000000</td>\n",
              "      <td>0.000000</td>\n",
              "    </tr>\n",
              "    <tr>\n",
              "      <th>3</th>\n",
              "      <td>0.000000e+00</td>\n",
              "      <td>0.000000e+00</td>\n",
              "      <td>0.000000e+00</td>\n",
              "      <td>0.000000e+00</td>\n",
              "      <td>0.000000e+00</td>\n",
              "      <td>0.000000e+00</td>\n",
              "      <td>0.000000e+00</td>\n",
              "      <td>0.000000e+00</td>\n",
              "      <td>0.000000e+00</td>\n",
              "      <td>0.000000</td>\n",
              "      <td>25.690909</td>\n",
              "      <td>0.000000</td>\n",
              "      <td>0.000000</td>\n",
              "      <td>0.000000</td>\n",
              "      <td>0.000000</td>\n",
              "      <td>0.000000</td>\n",
              "      <td>0.000000</td>\n",
              "      <td>0.000000</td>\n",
              "      <td>0.000000</td>\n",
              "    </tr>\n",
              "    <tr>\n",
              "      <th>4</th>\n",
              "      <td>0.000000e+00</td>\n",
              "      <td>0.000000e+00</td>\n",
              "      <td>0.000000e+00</td>\n",
              "      <td>0.000000e+00</td>\n",
              "      <td>0.000000e+00</td>\n",
              "      <td>0.000000e+00</td>\n",
              "      <td>0.000000e+00</td>\n",
              "      <td>0.000000e+00</td>\n",
              "      <td>0.000000e+00</td>\n",
              "      <td>0.000000</td>\n",
              "      <td>25.572727</td>\n",
              "      <td>0.000000</td>\n",
              "      <td>0.000000</td>\n",
              "      <td>0.000000</td>\n",
              "      <td>0.000000</td>\n",
              "      <td>0.000000</td>\n",
              "      <td>0.000000</td>\n",
              "      <td>0.000000</td>\n",
              "      <td>0.000000</td>\n",
              "    </tr>\n",
              "    <tr>\n",
              "      <th>5</th>\n",
              "      <td>0.000000e+00</td>\n",
              "      <td>0.000000e+00</td>\n",
              "      <td>0.000000e+00</td>\n",
              "      <td>0.000000e+00</td>\n",
              "      <td>0.000000e+00</td>\n",
              "      <td>0.000000e+00</td>\n",
              "      <td>0.000000e+00</td>\n",
              "      <td>0.000000e+00</td>\n",
              "      <td>0.000000e+00</td>\n",
              "      <td>0.000000</td>\n",
              "      <td>25.400000</td>\n",
              "      <td>0.000000</td>\n",
              "      <td>0.000000</td>\n",
              "      <td>0.000000</td>\n",
              "      <td>0.000000</td>\n",
              "      <td>0.000000</td>\n",
              "      <td>0.000000</td>\n",
              "      <td>0.000000</td>\n",
              "      <td>0.000000</td>\n",
              "    </tr>\n",
              "    <tr>\n",
              "      <th>6</th>\n",
              "      <td>0.000000e+00</td>\n",
              "      <td>0.000000e+00</td>\n",
              "      <td>0.000000e+00</td>\n",
              "      <td>0.000000e+00</td>\n",
              "      <td>0.000000e+00</td>\n",
              "      <td>0.000000e+00</td>\n",
              "      <td>0.000000e+00</td>\n",
              "      <td>0.000000e+00</td>\n",
              "      <td>0.000000e+00</td>\n",
              "      <td>0.000000</td>\n",
              "      <td>25.281818</td>\n",
              "      <td>0.000000</td>\n",
              "      <td>0.000000</td>\n",
              "      <td>0.000000</td>\n",
              "      <td>0.000000</td>\n",
              "      <td>0.000000</td>\n",
              "      <td>0.000000</td>\n",
              "      <td>0.000000</td>\n",
              "      <td>0.000000</td>\n",
              "    </tr>\n",
              "    <tr>\n",
              "      <th>7</th>\n",
              "      <td>0.000000e+00</td>\n",
              "      <td>0.000000e+00</td>\n",
              "      <td>0.000000e+00</td>\n",
              "      <td>0.000000e+00</td>\n",
              "      <td>0.000000e+00</td>\n",
              "      <td>0.000000e+00</td>\n",
              "      <td>0.000000e+00</td>\n",
              "      <td>0.000000e+00</td>\n",
              "      <td>0.000000e+00</td>\n",
              "      <td>0.000000</td>\n",
              "      <td>25.090909</td>\n",
              "      <td>0.000000</td>\n",
              "      <td>0.000000</td>\n",
              "      <td>0.000000</td>\n",
              "      <td>0.000000</td>\n",
              "      <td>0.000000</td>\n",
              "      <td>0.000000</td>\n",
              "      <td>0.000000</td>\n",
              "      <td>0.065455</td>\n",
              "    </tr>\n",
              "    <tr>\n",
              "      <th>8</th>\n",
              "      <td>0.000000e+00</td>\n",
              "      <td>0.000000e+00</td>\n",
              "      <td>0.000000e+00</td>\n",
              "      <td>0.000000e+00</td>\n",
              "      <td>0.000000e+00</td>\n",
              "      <td>0.000000e+00</td>\n",
              "      <td>0.000000e+00</td>\n",
              "      <td>0.000000e+00</td>\n",
              "      <td>0.000000e+00</td>\n",
              "      <td>0.000000</td>\n",
              "      <td>25.000000</td>\n",
              "      <td>0.000000</td>\n",
              "      <td>0.000000</td>\n",
              "      <td>0.000000</td>\n",
              "      <td>0.000000</td>\n",
              "      <td>0.000000</td>\n",
              "      <td>0.000000</td>\n",
              "      <td>0.065455</td>\n",
              "      <td>0.261818</td>\n",
              "    </tr>\n",
              "    <tr>\n",
              "      <th>9</th>\n",
              "      <td>0.000000e+00</td>\n",
              "      <td>0.000000e+00</td>\n",
              "      <td>0.000000e+00</td>\n",
              "      <td>0.000000e+00</td>\n",
              "      <td>0.000000e+00</td>\n",
              "      <td>0.000000e+00</td>\n",
              "      <td>0.000000e+00</td>\n",
              "      <td>0.000000e+00</td>\n",
              "      <td>0.000000e+00</td>\n",
              "      <td>0.000000</td>\n",
              "      <td>24.909091</td>\n",
              "      <td>0.000000</td>\n",
              "      <td>0.000000</td>\n",
              "      <td>0.000000</td>\n",
              "      <td>0.000000</td>\n",
              "      <td>0.000000</td>\n",
              "      <td>0.065455</td>\n",
              "      <td>0.261818</td>\n",
              "      <td>0.621818</td>\n",
              "    </tr>\n",
              "    <tr>\n",
              "      <th>10</th>\n",
              "      <td>0.000000e+00</td>\n",
              "      <td>0.000000e+00</td>\n",
              "      <td>0.000000e+00</td>\n",
              "      <td>0.000000e+00</td>\n",
              "      <td>0.000000e+00</td>\n",
              "      <td>0.000000e+00</td>\n",
              "      <td>0.000000e+00</td>\n",
              "      <td>0.000000e+00</td>\n",
              "      <td>0.000000e+00</td>\n",
              "      <td>0.000000</td>\n",
              "      <td>24.800000</td>\n",
              "      <td>0.000000</td>\n",
              "      <td>0.000000</td>\n",
              "      <td>0.000000</td>\n",
              "      <td>0.000000</td>\n",
              "      <td>0.065455</td>\n",
              "      <td>0.261818</td>\n",
              "      <td>0.621818</td>\n",
              "      <td>0.861818</td>\n",
              "    </tr>\n",
              "    <tr>\n",
              "      <th>11</th>\n",
              "      <td>0.000000e+00</td>\n",
              "      <td>0.000000e+00</td>\n",
              "      <td>0.000000e+00</td>\n",
              "      <td>0.000000e+00</td>\n",
              "      <td>0.000000e+00</td>\n",
              "      <td>0.000000e+00</td>\n",
              "      <td>0.000000e+00</td>\n",
              "      <td>0.000000e+00</td>\n",
              "      <td>0.000000e+00</td>\n",
              "      <td>0.000000</td>\n",
              "      <td>24.727273</td>\n",
              "      <td>0.000000</td>\n",
              "      <td>0.000000</td>\n",
              "      <td>0.000000</td>\n",
              "      <td>0.065455</td>\n",
              "      <td>0.261818</td>\n",
              "      <td>0.621818</td>\n",
              "      <td>0.861818</td>\n",
              "      <td>1.080000</td>\n",
              "    </tr>\n",
              "    <tr>\n",
              "      <th>12</th>\n",
              "      <td>0.000000e+00</td>\n",
              "      <td>0.000000e+00</td>\n",
              "      <td>0.000000e+00</td>\n",
              "      <td>0.000000e+00</td>\n",
              "      <td>0.000000e+00</td>\n",
              "      <td>0.000000e+00</td>\n",
              "      <td>0.000000e+00</td>\n",
              "      <td>0.000000e+00</td>\n",
              "      <td>0.000000e+00</td>\n",
              "      <td>0.000000</td>\n",
              "      <td>24.572727</td>\n",
              "      <td>0.000000</td>\n",
              "      <td>0.000000</td>\n",
              "      <td>0.065455</td>\n",
              "      <td>0.261818</td>\n",
              "      <td>0.621818</td>\n",
              "      <td>0.861818</td>\n",
              "      <td>1.080000</td>\n",
              "      <td>2.083636</td>\n",
              "    </tr>\n",
              "    <tr>\n",
              "      <th>13</th>\n",
              "      <td>0.000000e+00</td>\n",
              "      <td>0.000000e+00</td>\n",
              "      <td>0.000000e+00</td>\n",
              "      <td>0.000000e+00</td>\n",
              "      <td>0.000000e+00</td>\n",
              "      <td>0.000000e+00</td>\n",
              "      <td>0.000000e+00</td>\n",
              "      <td>0.000000e+00</td>\n",
              "      <td>0.000000e+00</td>\n",
              "      <td>0.000000</td>\n",
              "      <td>24.536364</td>\n",
              "      <td>0.000000</td>\n",
              "      <td>0.065455</td>\n",
              "      <td>0.261818</td>\n",
              "      <td>0.621818</td>\n",
              "      <td>0.861818</td>\n",
              "      <td>1.080000</td>\n",
              "      <td>2.083636</td>\n",
              "      <td>3.720000</td>\n",
              "    </tr>\n",
              "    <tr>\n",
              "      <th>14</th>\n",
              "      <td>0.000000e+00</td>\n",
              "      <td>0.000000e+00</td>\n",
              "      <td>0.000000e+00</td>\n",
              "      <td>0.000000e+00</td>\n",
              "      <td>0.000000e+00</td>\n",
              "      <td>0.000000e+00</td>\n",
              "      <td>0.000000e+00</td>\n",
              "      <td>0.000000e+00</td>\n",
              "      <td>0.000000e+00</td>\n",
              "      <td>19.227273</td>\n",
              "      <td>24.481818</td>\n",
              "      <td>0.065455</td>\n",
              "      <td>0.261818</td>\n",
              "      <td>0.621818</td>\n",
              "      <td>0.861818</td>\n",
              "      <td>1.080000</td>\n",
              "      <td>2.083636</td>\n",
              "      <td>3.720000</td>\n",
              "      <td>4.669091</td>\n",
              "    </tr>\n",
              "    <tr>\n",
              "      <th>15</th>\n",
              "      <td>0.000000e+00</td>\n",
              "      <td>0.000000e+00</td>\n",
              "      <td>0.000000e+00</td>\n",
              "      <td>0.000000e+00</td>\n",
              "      <td>0.000000e+00</td>\n",
              "      <td>0.000000e+00</td>\n",
              "      <td>0.000000e+00</td>\n",
              "      <td>0.000000e+00</td>\n",
              "      <td>0.000000e+00</td>\n",
              "      <td>62.363636</td>\n",
              "      <td>24.427273</td>\n",
              "      <td>0.261818</td>\n",
              "      <td>0.621818</td>\n",
              "      <td>0.861818</td>\n",
              "      <td>1.080000</td>\n",
              "      <td>2.083636</td>\n",
              "      <td>3.720000</td>\n",
              "      <td>4.669091</td>\n",
              "      <td>4.603636</td>\n",
              "    </tr>\n",
              "    <tr>\n",
              "      <th>16</th>\n",
              "      <td>0.000000e+00</td>\n",
              "      <td>0.000000e+00</td>\n",
              "      <td>0.000000e+00</td>\n",
              "      <td>0.000000e+00</td>\n",
              "      <td>0.000000e+00</td>\n",
              "      <td>0.000000e+00</td>\n",
              "      <td>0.000000e+00</td>\n",
              "      <td>0.000000e+00</td>\n",
              "      <td>0.000000e+00</td>\n",
              "      <td>118.636364</td>\n",
              "      <td>24.890909</td>\n",
              "      <td>0.621818</td>\n",
              "      <td>0.861818</td>\n",
              "      <td>1.080000</td>\n",
              "      <td>2.083636</td>\n",
              "      <td>3.720000</td>\n",
              "      <td>4.669091</td>\n",
              "      <td>4.603636</td>\n",
              "      <td>3.981818</td>\n",
              "    </tr>\n",
              "    <tr>\n",
              "      <th>17</th>\n",
              "      <td>0.000000e+00</td>\n",
              "      <td>0.000000e+00</td>\n",
              "      <td>0.000000e+00</td>\n",
              "      <td>0.000000e+00</td>\n",
              "      <td>0.000000e+00</td>\n",
              "      <td>0.000000e+00</td>\n",
              "      <td>0.000000e+00</td>\n",
              "      <td>0.000000e+00</td>\n",
              "      <td>0.000000e+00</td>\n",
              "      <td>144.545455</td>\n",
              "      <td>24.636364</td>\n",
              "      <td>0.861818</td>\n",
              "      <td>1.080000</td>\n",
              "      <td>2.083636</td>\n",
              "      <td>3.720000</td>\n",
              "      <td>4.669091</td>\n",
              "      <td>4.603636</td>\n",
              "      <td>3.981818</td>\n",
              "      <td>4.090909</td>\n",
              "    </tr>\n",
              "    <tr>\n",
              "      <th>18</th>\n",
              "      <td>0.000000e+00</td>\n",
              "      <td>0.000000e+00</td>\n",
              "      <td>0.000000e+00</td>\n",
              "      <td>0.000000e+00</td>\n",
              "      <td>0.000000e+00</td>\n",
              "      <td>0.000000e+00</td>\n",
              "      <td>0.000000e+00</td>\n",
              "      <td>0.000000e+00</td>\n",
              "      <td>0.000000e+00</td>\n",
              "      <td>184.272727</td>\n",
              "      <td>25.181818</td>\n",
              "      <td>1.080000</td>\n",
              "      <td>2.083636</td>\n",
              "      <td>3.720000</td>\n",
              "      <td>4.669091</td>\n",
              "      <td>4.603636</td>\n",
              "      <td>3.981818</td>\n",
              "      <td>4.090909</td>\n",
              "      <td>4.636364</td>\n",
              "    </tr>\n",
              "    <tr>\n",
              "      <th>19</th>\n",
              "      <td>0.000000e+00</td>\n",
              "      <td>0.000000e+00</td>\n",
              "      <td>0.000000e+00</td>\n",
              "      <td>0.000000e+00</td>\n",
              "      <td>0.000000e+00</td>\n",
              "      <td>0.000000e+00</td>\n",
              "      <td>0.000000e+00</td>\n",
              "      <td>0.000000e+00</td>\n",
              "      <td>0.000000e+00</td>\n",
              "      <td>325.818182</td>\n",
              "      <td>26.027273</td>\n",
              "      <td>2.083636</td>\n",
              "      <td>3.720000</td>\n",
              "      <td>4.669091</td>\n",
              "      <td>4.603636</td>\n",
              "      <td>3.981818</td>\n",
              "      <td>4.090909</td>\n",
              "      <td>4.636364</td>\n",
              "      <td>2.503636</td>\n",
              "    </tr>\n",
              "    <tr>\n",
              "      <th>20</th>\n",
              "      <td>0.000000e+00</td>\n",
              "      <td>0.000000e+00</td>\n",
              "      <td>0.000000e+00</td>\n",
              "      <td>0.000000e+00</td>\n",
              "      <td>0.000000e+00</td>\n",
              "      <td>0.000000e+00</td>\n",
              "      <td>0.000000e+00</td>\n",
              "      <td>0.000000e+00</td>\n",
              "      <td>0.000000e+00</td>\n",
              "      <td>501.000000</td>\n",
              "      <td>27.027273</td>\n",
              "      <td>3.720000</td>\n",
              "      <td>4.669091</td>\n",
              "      <td>4.603636</td>\n",
              "      <td>3.981818</td>\n",
              "      <td>4.090909</td>\n",
              "      <td>4.636364</td>\n",
              "      <td>2.503636</td>\n",
              "      <td>2.389091</td>\n",
              "    </tr>\n",
              "    <tr>\n",
              "      <th>21</th>\n",
              "      <td>0.000000e+00</td>\n",
              "      <td>0.000000e+00</td>\n",
              "      <td>0.000000e+00</td>\n",
              "      <td>0.000000e+00</td>\n",
              "      <td>0.000000e+00</td>\n",
              "      <td>0.000000e+00</td>\n",
              "      <td>0.000000e+00</td>\n",
              "      <td>0.000000e+00</td>\n",
              "      <td>0.000000e+00</td>\n",
              "      <td>637.727273</td>\n",
              "      <td>28.195455</td>\n",
              "      <td>4.669091</td>\n",
              "      <td>4.603636</td>\n",
              "      <td>3.981818</td>\n",
              "      <td>4.090909</td>\n",
              "      <td>4.636364</td>\n",
              "      <td>2.503636</td>\n",
              "      <td>2.389091</td>\n",
              "      <td>3.469091</td>\n",
              "    </tr>\n",
              "    <tr>\n",
              "      <th>22</th>\n",
              "      <td>0.000000e+00</td>\n",
              "      <td>0.000000e+00</td>\n",
              "      <td>0.000000e+00</td>\n",
              "      <td>0.000000e+00</td>\n",
              "      <td>0.000000e+00</td>\n",
              "      <td>0.000000e+00</td>\n",
              "      <td>0.000000e+00</td>\n",
              "      <td>0.000000e+00</td>\n",
              "      <td>0.000000e+00</td>\n",
              "      <td>630.727273</td>\n",
              "      <td>28.922727</td>\n",
              "      <td>4.603636</td>\n",
              "      <td>3.981818</td>\n",
              "      <td>4.090909</td>\n",
              "      <td>4.636364</td>\n",
              "      <td>2.503636</td>\n",
              "      <td>2.389091</td>\n",
              "      <td>3.469091</td>\n",
              "      <td>1.549091</td>\n",
              "    </tr>\n",
              "    <tr>\n",
              "      <th>23</th>\n",
              "      <td>0.000000e+00</td>\n",
              "      <td>0.000000e+00</td>\n",
              "      <td>0.000000e+00</td>\n",
              "      <td>0.000000e+00</td>\n",
              "      <td>0.000000e+00</td>\n",
              "      <td>0.000000e+00</td>\n",
              "      <td>0.000000e+00</td>\n",
              "      <td>0.000000e+00</td>\n",
              "      <td>0.000000e+00</td>\n",
              "      <td>625.272727</td>\n",
              "      <td>28.827273</td>\n",
              "      <td>3.981818</td>\n",
              "      <td>4.090909</td>\n",
              "      <td>4.636364</td>\n",
              "      <td>2.503636</td>\n",
              "      <td>2.389091</td>\n",
              "      <td>3.469091</td>\n",
              "      <td>1.549091</td>\n",
              "      <td>1.112727</td>\n",
              "    </tr>\n",
              "    <tr>\n",
              "      <th>24</th>\n",
              "      <td>0.000000e+00</td>\n",
              "      <td>0.000000e+00</td>\n",
              "      <td>0.000000e+00</td>\n",
              "      <td>0.000000e+00</td>\n",
              "      <td>0.000000e+00</td>\n",
              "      <td>0.000000e+00</td>\n",
              "      <td>0.000000e+00</td>\n",
              "      <td>0.000000e+00</td>\n",
              "      <td>0.000000e+00</td>\n",
              "      <td>599.545455</td>\n",
              "      <td>29.654545</td>\n",
              "      <td>4.090909</td>\n",
              "      <td>4.636364</td>\n",
              "      <td>2.503636</td>\n",
              "      <td>2.389091</td>\n",
              "      <td>3.469091</td>\n",
              "      <td>1.549091</td>\n",
              "      <td>1.112727</td>\n",
              "      <td>0.981818</td>\n",
              "    </tr>\n",
              "    <tr>\n",
              "      <th>25</th>\n",
              "      <td>0.000000e+00</td>\n",
              "      <td>0.000000e+00</td>\n",
              "      <td>0.000000e+00</td>\n",
              "      <td>0.000000e+00</td>\n",
              "      <td>0.000000e+00</td>\n",
              "      <td>0.000000e+00</td>\n",
              "      <td>0.000000e+00</td>\n",
              "      <td>0.000000e+00</td>\n",
              "      <td>0.000000e+00</td>\n",
              "      <td>602.681818</td>\n",
              "      <td>30.509091</td>\n",
              "      <td>4.636364</td>\n",
              "      <td>2.503636</td>\n",
              "      <td>2.389091</td>\n",
              "      <td>3.469091</td>\n",
              "      <td>1.549091</td>\n",
              "      <td>1.112727</td>\n",
              "      <td>0.981818</td>\n",
              "      <td>1.538182</td>\n",
              "    </tr>\n",
              "    <tr>\n",
              "      <th>26</th>\n",
              "      <td>0.000000e+00</td>\n",
              "      <td>0.000000e+00</td>\n",
              "      <td>0.000000e+00</td>\n",
              "      <td>0.000000e+00</td>\n",
              "      <td>0.000000e+00</td>\n",
              "      <td>0.000000e+00</td>\n",
              "      <td>0.000000e+00</td>\n",
              "      <td>0.000000e+00</td>\n",
              "      <td>0.000000e+00</td>\n",
              "      <td>367.954545</td>\n",
              "      <td>29.800000</td>\n",
              "      <td>2.503636</td>\n",
              "      <td>2.389091</td>\n",
              "      <td>3.469091</td>\n",
              "      <td>1.549091</td>\n",
              "      <td>1.112727</td>\n",
              "      <td>0.981818</td>\n",
              "      <td>1.538182</td>\n",
              "      <td>0.545455</td>\n",
              "    </tr>\n",
              "    <tr>\n",
              "      <th>27</th>\n",
              "      <td>0.000000e+00</td>\n",
              "      <td>0.000000e+00</td>\n",
              "      <td>0.000000e+00</td>\n",
              "      <td>0.000000e+00</td>\n",
              "      <td>0.000000e+00</td>\n",
              "      <td>0.000000e+00</td>\n",
              "      <td>0.000000e+00</td>\n",
              "      <td>0.000000e+00</td>\n",
              "      <td>0.000000e+00</td>\n",
              "      <td>354.409091</td>\n",
              "      <td>29.518182</td>\n",
              "      <td>2.389091</td>\n",
              "      <td>3.469091</td>\n",
              "      <td>1.549091</td>\n",
              "      <td>1.112727</td>\n",
              "      <td>0.981818</td>\n",
              "      <td>1.538182</td>\n",
              "      <td>0.545455</td>\n",
              "      <td>0.283636</td>\n",
              "    </tr>\n",
              "    <tr>\n",
              "      <th>28</th>\n",
              "      <td>0.000000e+00</td>\n",
              "      <td>0.000000e+00</td>\n",
              "      <td>0.000000e+00</td>\n",
              "      <td>0.000000e+00</td>\n",
              "      <td>0.000000e+00</td>\n",
              "      <td>0.000000e+00</td>\n",
              "      <td>0.000000e+00</td>\n",
              "      <td>0.000000e+00</td>\n",
              "      <td>0.000000e+00</td>\n",
              "      <td>474.181818</td>\n",
              "      <td>30.340909</td>\n",
              "      <td>3.469091</td>\n",
              "      <td>1.549091</td>\n",
              "      <td>1.112727</td>\n",
              "      <td>0.981818</td>\n",
              "      <td>1.538182</td>\n",
              "      <td>0.545455</td>\n",
              "      <td>0.283636</td>\n",
              "      <td>0.076364</td>\n",
              "    </tr>\n",
              "    <tr>\n",
              "      <th>29</th>\n",
              "      <td>0.000000e+00</td>\n",
              "      <td>0.000000e+00</td>\n",
              "      <td>0.000000e+00</td>\n",
              "      <td>0.000000e+00</td>\n",
              "      <td>0.000000e+00</td>\n",
              "      <td>0.000000e+00</td>\n",
              "      <td>0.000000e+00</td>\n",
              "      <td>0.000000e+00</td>\n",
              "      <td>0.000000e+00</td>\n",
              "      <td>272.727273</td>\n",
              "      <td>30.445455</td>\n",
              "      <td>1.549091</td>\n",
              "      <td>1.112727</td>\n",
              "      <td>0.981818</td>\n",
              "      <td>1.538182</td>\n",
              "      <td>0.545455</td>\n",
              "      <td>0.283636</td>\n",
              "      <td>0.076364</td>\n",
              "      <td>0.000000</td>\n",
              "    </tr>\n",
              "    <tr>\n",
              "      <th>...</th>\n",
              "      <td>...</td>\n",
              "      <td>...</td>\n",
              "      <td>...</td>\n",
              "      <td>...</td>\n",
              "      <td>...</td>\n",
              "      <td>...</td>\n",
              "      <td>...</td>\n",
              "      <td>...</td>\n",
              "      <td>...</td>\n",
              "      <td>...</td>\n",
              "      <td>...</td>\n",
              "      <td>...</td>\n",
              "      <td>...</td>\n",
              "      <td>...</td>\n",
              "      <td>...</td>\n",
              "      <td>...</td>\n",
              "      <td>...</td>\n",
              "      <td>...</td>\n",
              "      <td>...</td>\n",
              "    </tr>\n",
              "    <tr>\n",
              "      <th>26178</th>\n",
              "      <td>5.706158e+02</td>\n",
              "      <td>5.569118e+02</td>\n",
              "      <td>7.221061e+02</td>\n",
              "      <td>5.785971e+02</td>\n",
              "      <td>8.938703e+02</td>\n",
              "      <td>6.531382e+02</td>\n",
              "      <td>7.955479e+02</td>\n",
              "      <td>7.885098e+02</td>\n",
              "      <td>8.074738e+02</td>\n",
              "      <td>594.500000</td>\n",
              "      <td>31.363636</td>\n",
              "      <td>3.229091</td>\n",
              "      <td>3.185455</td>\n",
              "      <td>4.216364</td>\n",
              "      <td>3.679091</td>\n",
              "      <td>5.110909</td>\n",
              "      <td>3.872727</td>\n",
              "      <td>4.445455</td>\n",
              "      <td>4.958182</td>\n",
              "    </tr>\n",
              "    <tr>\n",
              "      <th>26179</th>\n",
              "      <td>5.569118e+02</td>\n",
              "      <td>7.221061e+02</td>\n",
              "      <td>5.785971e+02</td>\n",
              "      <td>8.938703e+02</td>\n",
              "      <td>6.531382e+02</td>\n",
              "      <td>7.955479e+02</td>\n",
              "      <td>7.885098e+02</td>\n",
              "      <td>8.074738e+02</td>\n",
              "      <td>6.364766e+02</td>\n",
              "      <td>577.818182</td>\n",
              "      <td>32.290909</td>\n",
              "      <td>3.185455</td>\n",
              "      <td>4.216364</td>\n",
              "      <td>3.679091</td>\n",
              "      <td>5.110909</td>\n",
              "      <td>3.872727</td>\n",
              "      <td>4.445455</td>\n",
              "      <td>4.958182</td>\n",
              "      <td>5.015455</td>\n",
              "    </tr>\n",
              "    <tr>\n",
              "      <th>26180</th>\n",
              "      <td>7.221061e+02</td>\n",
              "      <td>5.785971e+02</td>\n",
              "      <td>8.938703e+02</td>\n",
              "      <td>6.531382e+02</td>\n",
              "      <td>7.955479e+02</td>\n",
              "      <td>7.885098e+02</td>\n",
              "      <td>8.074738e+02</td>\n",
              "      <td>6.364766e+02</td>\n",
              "      <td>7.644434e+02</td>\n",
              "      <td>758.272727</td>\n",
              "      <td>32.786364</td>\n",
              "      <td>4.216364</td>\n",
              "      <td>3.679091</td>\n",
              "      <td>5.110909</td>\n",
              "      <td>3.872727</td>\n",
              "      <td>4.445455</td>\n",
              "      <td>4.958182</td>\n",
              "      <td>5.015455</td>\n",
              "      <td>4.374545</td>\n",
              "    </tr>\n",
              "    <tr>\n",
              "      <th>26181</th>\n",
              "      <td>5.785971e+02</td>\n",
              "      <td>8.938703e+02</td>\n",
              "      <td>6.531382e+02</td>\n",
              "      <td>7.955479e+02</td>\n",
              "      <td>7.885098e+02</td>\n",
              "      <td>8.074738e+02</td>\n",
              "      <td>6.364766e+02</td>\n",
              "      <td>7.644434e+02</td>\n",
              "      <td>5.962422e+02</td>\n",
              "      <td>601.318182</td>\n",
              "      <td>33.272727</td>\n",
              "      <td>3.679091</td>\n",
              "      <td>5.110909</td>\n",
              "      <td>3.872727</td>\n",
              "      <td>4.445455</td>\n",
              "      <td>4.958182</td>\n",
              "      <td>5.015455</td>\n",
              "      <td>4.374545</td>\n",
              "      <td>4.407273</td>\n",
              "    </tr>\n",
              "    <tr>\n",
              "      <th>26182</th>\n",
              "      <td>8.938703e+02</td>\n",
              "      <td>6.531382e+02</td>\n",
              "      <td>7.955479e+02</td>\n",
              "      <td>7.885098e+02</td>\n",
              "      <td>8.074738e+02</td>\n",
              "      <td>6.364766e+02</td>\n",
              "      <td>7.644434e+02</td>\n",
              "      <td>5.962422e+02</td>\n",
              "      <td>6.638551e+02</td>\n",
              "      <td>949.272727</td>\n",
              "      <td>34.372727</td>\n",
              "      <td>5.110909</td>\n",
              "      <td>3.872727</td>\n",
              "      <td>4.445455</td>\n",
              "      <td>4.958182</td>\n",
              "      <td>5.015455</td>\n",
              "      <td>4.374545</td>\n",
              "      <td>4.407273</td>\n",
              "      <td>3.332727</td>\n",
              "    </tr>\n",
              "    <tr>\n",
              "      <th>26183</th>\n",
              "      <td>6.531382e+02</td>\n",
              "      <td>7.955479e+02</td>\n",
              "      <td>7.885098e+02</td>\n",
              "      <td>8.074738e+02</td>\n",
              "      <td>6.364766e+02</td>\n",
              "      <td>7.644434e+02</td>\n",
              "      <td>5.962422e+02</td>\n",
              "      <td>6.638551e+02</td>\n",
              "      <td>5.181760e+02</td>\n",
              "      <td>672.409091</td>\n",
              "      <td>34.550000</td>\n",
              "      <td>3.872727</td>\n",
              "      <td>4.445455</td>\n",
              "      <td>4.958182</td>\n",
              "      <td>5.015455</td>\n",
              "      <td>4.374545</td>\n",
              "      <td>4.407273</td>\n",
              "      <td>3.332727</td>\n",
              "      <td>3.812727</td>\n",
              "    </tr>\n",
              "    <tr>\n",
              "      <th>26184</th>\n",
              "      <td>7.955479e+02</td>\n",
              "      <td>7.885098e+02</td>\n",
              "      <td>8.074738e+02</td>\n",
              "      <td>6.364766e+02</td>\n",
              "      <td>7.644434e+02</td>\n",
              "      <td>5.962422e+02</td>\n",
              "      <td>6.638551e+02</td>\n",
              "      <td>5.181760e+02</td>\n",
              "      <td>4.785733e+02</td>\n",
              "      <td>824.954545</td>\n",
              "      <td>35.890909</td>\n",
              "      <td>4.445455</td>\n",
              "      <td>4.958182</td>\n",
              "      <td>5.015455</td>\n",
              "      <td>4.374545</td>\n",
              "      <td>4.407273</td>\n",
              "      <td>3.332727</td>\n",
              "      <td>3.812727</td>\n",
              "      <td>2.989091</td>\n",
              "    </tr>\n",
              "    <tr>\n",
              "      <th>26185</th>\n",
              "      <td>7.885098e+02</td>\n",
              "      <td>8.074738e+02</td>\n",
              "      <td>6.364766e+02</td>\n",
              "      <td>7.644434e+02</td>\n",
              "      <td>5.962422e+02</td>\n",
              "      <td>6.638551e+02</td>\n",
              "      <td>5.181760e+02</td>\n",
              "      <td>4.785733e+02</td>\n",
              "      <td>2.516613e+02</td>\n",
              "      <td>799.909091</td>\n",
              "      <td>36.881818</td>\n",
              "      <td>4.958182</td>\n",
              "      <td>5.015455</td>\n",
              "      <td>4.374545</td>\n",
              "      <td>4.407273</td>\n",
              "      <td>3.332727</td>\n",
              "      <td>3.812727</td>\n",
              "      <td>2.989091</td>\n",
              "      <td>2.580000</td>\n",
              "    </tr>\n",
              "    <tr>\n",
              "      <th>26186</th>\n",
              "      <td>8.074738e+02</td>\n",
              "      <td>6.364766e+02</td>\n",
              "      <td>7.644434e+02</td>\n",
              "      <td>5.962422e+02</td>\n",
              "      <td>6.638551e+02</td>\n",
              "      <td>5.181760e+02</td>\n",
              "      <td>4.785733e+02</td>\n",
              "      <td>2.516613e+02</td>\n",
              "      <td>8.942232e+01</td>\n",
              "      <td>850.545455</td>\n",
              "      <td>37.118182</td>\n",
              "      <td>5.015455</td>\n",
              "      <td>4.374545</td>\n",
              "      <td>4.407273</td>\n",
              "      <td>3.332727</td>\n",
              "      <td>3.812727</td>\n",
              "      <td>2.989091</td>\n",
              "      <td>2.580000</td>\n",
              "      <td>1.729091</td>\n",
              "    </tr>\n",
              "    <tr>\n",
              "      <th>26187</th>\n",
              "      <td>6.364766e+02</td>\n",
              "      <td>7.644434e+02</td>\n",
              "      <td>5.962422e+02</td>\n",
              "      <td>6.638551e+02</td>\n",
              "      <td>5.181760e+02</td>\n",
              "      <td>4.785733e+02</td>\n",
              "      <td>2.516613e+02</td>\n",
              "      <td>8.942232e+01</td>\n",
              "      <td>7.377219e+01</td>\n",
              "      <td>667.454545</td>\n",
              "      <td>37.068182</td>\n",
              "      <td>4.374545</td>\n",
              "      <td>4.407273</td>\n",
              "      <td>3.332727</td>\n",
              "      <td>3.812727</td>\n",
              "      <td>2.989091</td>\n",
              "      <td>2.580000</td>\n",
              "      <td>1.729091</td>\n",
              "      <td>0.567273</td>\n",
              "    </tr>\n",
              "    <tr>\n",
              "      <th>26188</th>\n",
              "      <td>7.644434e+02</td>\n",
              "      <td>5.962422e+02</td>\n",
              "      <td>6.638551e+02</td>\n",
              "      <td>5.181760e+02</td>\n",
              "      <td>4.785733e+02</td>\n",
              "      <td>2.516613e+02</td>\n",
              "      <td>8.942232e+01</td>\n",
              "      <td>7.377219e+01</td>\n",
              "      <td>4.712741e+01</td>\n",
              "      <td>795.272727</td>\n",
              "      <td>37.404545</td>\n",
              "      <td>4.407273</td>\n",
              "      <td>3.332727</td>\n",
              "      <td>3.812727</td>\n",
              "      <td>2.989091</td>\n",
              "      <td>2.580000</td>\n",
              "      <td>1.729091</td>\n",
              "      <td>0.567273</td>\n",
              "      <td>0.245455</td>\n",
              "    </tr>\n",
              "    <tr>\n",
              "      <th>26189</th>\n",
              "      <td>5.962422e+02</td>\n",
              "      <td>6.638551e+02</td>\n",
              "      <td>5.181760e+02</td>\n",
              "      <td>4.785733e+02</td>\n",
              "      <td>2.516613e+02</td>\n",
              "      <td>8.942232e+01</td>\n",
              "      <td>7.377219e+01</td>\n",
              "      <td>4.712741e+01</td>\n",
              "      <td>1.377258e+01</td>\n",
              "      <td>594.681818</td>\n",
              "      <td>35.622727</td>\n",
              "      <td>3.332727</td>\n",
              "      <td>3.812727</td>\n",
              "      <td>2.989091</td>\n",
              "      <td>2.580000</td>\n",
              "      <td>1.729091</td>\n",
              "      <td>0.567273</td>\n",
              "      <td>0.245455</td>\n",
              "      <td>0.141818</td>\n",
              "    </tr>\n",
              "    <tr>\n",
              "      <th>26190</th>\n",
              "      <td>6.638551e+02</td>\n",
              "      <td>5.181760e+02</td>\n",
              "      <td>4.785733e+02</td>\n",
              "      <td>2.516613e+02</td>\n",
              "      <td>8.942232e+01</td>\n",
              "      <td>7.377219e+01</td>\n",
              "      <td>4.712741e+01</td>\n",
              "      <td>1.377258e+01</td>\n",
              "      <td>1.554545e-09</td>\n",
              "      <td>699.363636</td>\n",
              "      <td>36.922727</td>\n",
              "      <td>3.812727</td>\n",
              "      <td>2.989091</td>\n",
              "      <td>2.580000</td>\n",
              "      <td>1.729091</td>\n",
              "      <td>0.567273</td>\n",
              "      <td>0.245455</td>\n",
              "      <td>0.141818</td>\n",
              "      <td>0.016364</td>\n",
              "    </tr>\n",
              "    <tr>\n",
              "      <th>26191</th>\n",
              "      <td>5.181760e+02</td>\n",
              "      <td>4.785733e+02</td>\n",
              "      <td>2.516613e+02</td>\n",
              "      <td>8.942232e+01</td>\n",
              "      <td>7.377219e+01</td>\n",
              "      <td>4.712741e+01</td>\n",
              "      <td>1.377258e+01</td>\n",
              "      <td>1.554545e-09</td>\n",
              "      <td>0.000000e+00</td>\n",
              "      <td>558.545455</td>\n",
              "      <td>36.336364</td>\n",
              "      <td>2.989091</td>\n",
              "      <td>2.580000</td>\n",
              "      <td>1.729091</td>\n",
              "      <td>0.567273</td>\n",
              "      <td>0.245455</td>\n",
              "      <td>0.141818</td>\n",
              "      <td>0.016364</td>\n",
              "      <td>0.000000</td>\n",
              "    </tr>\n",
              "    <tr>\n",
              "      <th>26192</th>\n",
              "      <td>4.785733e+02</td>\n",
              "      <td>2.516613e+02</td>\n",
              "      <td>8.942232e+01</td>\n",
              "      <td>7.377219e+01</td>\n",
              "      <td>4.712741e+01</td>\n",
              "      <td>1.377258e+01</td>\n",
              "      <td>1.554545e-09</td>\n",
              "      <td>0.000000e+00</td>\n",
              "      <td>0.000000e+00</td>\n",
              "      <td>508.090909</td>\n",
              "      <td>37.154545</td>\n",
              "      <td>2.580000</td>\n",
              "      <td>1.729091</td>\n",
              "      <td>0.567273</td>\n",
              "      <td>0.245455</td>\n",
              "      <td>0.141818</td>\n",
              "      <td>0.016364</td>\n",
              "      <td>0.000000</td>\n",
              "      <td>0.000000</td>\n",
              "    </tr>\n",
              "    <tr>\n",
              "      <th>26193</th>\n",
              "      <td>2.516613e+02</td>\n",
              "      <td>8.942232e+01</td>\n",
              "      <td>7.377219e+01</td>\n",
              "      <td>4.712741e+01</td>\n",
              "      <td>1.377258e+01</td>\n",
              "      <td>1.554545e-09</td>\n",
              "      <td>0.000000e+00</td>\n",
              "      <td>0.000000e+00</td>\n",
              "      <td>0.000000e+00</td>\n",
              "      <td>251.136364</td>\n",
              "      <td>34.004545</td>\n",
              "      <td>1.729091</td>\n",
              "      <td>0.567273</td>\n",
              "      <td>0.245455</td>\n",
              "      <td>0.141818</td>\n",
              "      <td>0.016364</td>\n",
              "      <td>0.000000</td>\n",
              "      <td>0.000000</td>\n",
              "      <td>0.000000</td>\n",
              "    </tr>\n",
              "    <tr>\n",
              "      <th>26194</th>\n",
              "      <td>8.942232e+01</td>\n",
              "      <td>7.377219e+01</td>\n",
              "      <td>4.712741e+01</td>\n",
              "      <td>1.377258e+01</td>\n",
              "      <td>1.554545e-09</td>\n",
              "      <td>0.000000e+00</td>\n",
              "      <td>0.000000e+00</td>\n",
              "      <td>0.000000e+00</td>\n",
              "      <td>0.000000e+00</td>\n",
              "      <td>78.454545</td>\n",
              "      <td>32.327273</td>\n",
              "      <td>0.567273</td>\n",
              "      <td>0.245455</td>\n",
              "      <td>0.141818</td>\n",
              "      <td>0.016364</td>\n",
              "      <td>0.000000</td>\n",
              "      <td>0.000000</td>\n",
              "      <td>0.000000</td>\n",
              "      <td>0.000000</td>\n",
              "    </tr>\n",
              "    <tr>\n",
              "      <th>26195</th>\n",
              "      <td>7.377219e+01</td>\n",
              "      <td>4.712741e+01</td>\n",
              "      <td>1.377258e+01</td>\n",
              "      <td>1.554545e-09</td>\n",
              "      <td>0.000000e+00</td>\n",
              "      <td>0.000000e+00</td>\n",
              "      <td>0.000000e+00</td>\n",
              "      <td>0.000000e+00</td>\n",
              "      <td>0.000000e+00</td>\n",
              "      <td>67.363636</td>\n",
              "      <td>31.872727</td>\n",
              "      <td>0.245455</td>\n",
              "      <td>0.141818</td>\n",
              "      <td>0.016364</td>\n",
              "      <td>0.000000</td>\n",
              "      <td>0.000000</td>\n",
              "      <td>0.000000</td>\n",
              "      <td>0.000000</td>\n",
              "      <td>0.000000</td>\n",
              "    </tr>\n",
              "    <tr>\n",
              "      <th>26196</th>\n",
              "      <td>4.712741e+01</td>\n",
              "      <td>1.377258e+01</td>\n",
              "      <td>1.554545e-09</td>\n",
              "      <td>0.000000e+00</td>\n",
              "      <td>0.000000e+00</td>\n",
              "      <td>0.000000e+00</td>\n",
              "      <td>0.000000e+00</td>\n",
              "      <td>0.000000e+00</td>\n",
              "      <td>0.000000e+00</td>\n",
              "      <td>44.363636</td>\n",
              "      <td>31.172727</td>\n",
              "      <td>0.141818</td>\n",
              "      <td>0.016364</td>\n",
              "      <td>0.000000</td>\n",
              "      <td>0.000000</td>\n",
              "      <td>0.000000</td>\n",
              "      <td>0.000000</td>\n",
              "      <td>0.000000</td>\n",
              "      <td>0.000000</td>\n",
              "    </tr>\n",
              "    <tr>\n",
              "      <th>26197</th>\n",
              "      <td>1.377258e+01</td>\n",
              "      <td>1.554545e-09</td>\n",
              "      <td>0.000000e+00</td>\n",
              "      <td>0.000000e+00</td>\n",
              "      <td>0.000000e+00</td>\n",
              "      <td>0.000000e+00</td>\n",
              "      <td>0.000000e+00</td>\n",
              "      <td>0.000000e+00</td>\n",
              "      <td>0.000000e+00</td>\n",
              "      <td>13.727273</td>\n",
              "      <td>30.445455</td>\n",
              "      <td>0.016364</td>\n",
              "      <td>0.000000</td>\n",
              "      <td>0.000000</td>\n",
              "      <td>0.000000</td>\n",
              "      <td>0.000000</td>\n",
              "      <td>0.000000</td>\n",
              "      <td>0.000000</td>\n",
              "      <td>0.000000</td>\n",
              "    </tr>\n",
              "    <tr>\n",
              "      <th>26198</th>\n",
              "      <td>1.554545e-09</td>\n",
              "      <td>0.000000e+00</td>\n",
              "      <td>0.000000e+00</td>\n",
              "      <td>0.000000e+00</td>\n",
              "      <td>0.000000e+00</td>\n",
              "      <td>0.000000e+00</td>\n",
              "      <td>0.000000e+00</td>\n",
              "      <td>0.000000e+00</td>\n",
              "      <td>0.000000e+00</td>\n",
              "      <td>0.000000</td>\n",
              "      <td>30.027273</td>\n",
              "      <td>0.000000</td>\n",
              "      <td>0.000000</td>\n",
              "      <td>0.000000</td>\n",
              "      <td>0.000000</td>\n",
              "      <td>0.000000</td>\n",
              "      <td>0.000000</td>\n",
              "      <td>0.000000</td>\n",
              "      <td>0.000000</td>\n",
              "    </tr>\n",
              "    <tr>\n",
              "      <th>26199</th>\n",
              "      <td>0.000000e+00</td>\n",
              "      <td>0.000000e+00</td>\n",
              "      <td>0.000000e+00</td>\n",
              "      <td>0.000000e+00</td>\n",
              "      <td>0.000000e+00</td>\n",
              "      <td>0.000000e+00</td>\n",
              "      <td>0.000000e+00</td>\n",
              "      <td>0.000000e+00</td>\n",
              "      <td>0.000000e+00</td>\n",
              "      <td>0.000000</td>\n",
              "      <td>29.800000</td>\n",
              "      <td>0.000000</td>\n",
              "      <td>0.000000</td>\n",
              "      <td>0.000000</td>\n",
              "      <td>0.000000</td>\n",
              "      <td>0.000000</td>\n",
              "      <td>0.000000</td>\n",
              "      <td>0.000000</td>\n",
              "      <td>0.000000</td>\n",
              "    </tr>\n",
              "    <tr>\n",
              "      <th>26200</th>\n",
              "      <td>0.000000e+00</td>\n",
              "      <td>0.000000e+00</td>\n",
              "      <td>0.000000e+00</td>\n",
              "      <td>0.000000e+00</td>\n",
              "      <td>0.000000e+00</td>\n",
              "      <td>0.000000e+00</td>\n",
              "      <td>0.000000e+00</td>\n",
              "      <td>0.000000e+00</td>\n",
              "      <td>0.000000e+00</td>\n",
              "      <td>0.000000</td>\n",
              "      <td>29.654545</td>\n",
              "      <td>0.000000</td>\n",
              "      <td>0.000000</td>\n",
              "      <td>0.000000</td>\n",
              "      <td>0.000000</td>\n",
              "      <td>0.000000</td>\n",
              "      <td>0.000000</td>\n",
              "      <td>0.000000</td>\n",
              "      <td>0.000000</td>\n",
              "    </tr>\n",
              "    <tr>\n",
              "      <th>26201</th>\n",
              "      <td>0.000000e+00</td>\n",
              "      <td>0.000000e+00</td>\n",
              "      <td>0.000000e+00</td>\n",
              "      <td>0.000000e+00</td>\n",
              "      <td>0.000000e+00</td>\n",
              "      <td>0.000000e+00</td>\n",
              "      <td>0.000000e+00</td>\n",
              "      <td>0.000000e+00</td>\n",
              "      <td>0.000000e+00</td>\n",
              "      <td>0.000000</td>\n",
              "      <td>29.418182</td>\n",
              "      <td>0.000000</td>\n",
              "      <td>0.000000</td>\n",
              "      <td>0.000000</td>\n",
              "      <td>0.000000</td>\n",
              "      <td>0.000000</td>\n",
              "      <td>0.000000</td>\n",
              "      <td>0.000000</td>\n",
              "      <td>0.000000</td>\n",
              "    </tr>\n",
              "    <tr>\n",
              "      <th>26202</th>\n",
              "      <td>0.000000e+00</td>\n",
              "      <td>0.000000e+00</td>\n",
              "      <td>0.000000e+00</td>\n",
              "      <td>0.000000e+00</td>\n",
              "      <td>0.000000e+00</td>\n",
              "      <td>0.000000e+00</td>\n",
              "      <td>0.000000e+00</td>\n",
              "      <td>0.000000e+00</td>\n",
              "      <td>0.000000e+00</td>\n",
              "      <td>0.000000</td>\n",
              "      <td>25.790909</td>\n",
              "      <td>0.000000</td>\n",
              "      <td>0.000000</td>\n",
              "      <td>0.000000</td>\n",
              "      <td>0.000000</td>\n",
              "      <td>0.000000</td>\n",
              "      <td>0.000000</td>\n",
              "      <td>0.000000</td>\n",
              "      <td>0.000000</td>\n",
              "    </tr>\n",
              "    <tr>\n",
              "      <th>26203</th>\n",
              "      <td>0.000000e+00</td>\n",
              "      <td>0.000000e+00</td>\n",
              "      <td>0.000000e+00</td>\n",
              "      <td>0.000000e+00</td>\n",
              "      <td>0.000000e+00</td>\n",
              "      <td>0.000000e+00</td>\n",
              "      <td>0.000000e+00</td>\n",
              "      <td>0.000000e+00</td>\n",
              "      <td>0.000000e+00</td>\n",
              "      <td>0.000000</td>\n",
              "      <td>24.681818</td>\n",
              "      <td>0.000000</td>\n",
              "      <td>0.000000</td>\n",
              "      <td>0.000000</td>\n",
              "      <td>0.000000</td>\n",
              "      <td>0.000000</td>\n",
              "      <td>0.000000</td>\n",
              "      <td>0.000000</td>\n",
              "      <td>0.000000</td>\n",
              "    </tr>\n",
              "    <tr>\n",
              "      <th>26204</th>\n",
              "      <td>0.000000e+00</td>\n",
              "      <td>0.000000e+00</td>\n",
              "      <td>0.000000e+00</td>\n",
              "      <td>0.000000e+00</td>\n",
              "      <td>0.000000e+00</td>\n",
              "      <td>0.000000e+00</td>\n",
              "      <td>0.000000e+00</td>\n",
              "      <td>0.000000e+00</td>\n",
              "      <td>0.000000e+00</td>\n",
              "      <td>0.000000</td>\n",
              "      <td>24.418182</td>\n",
              "      <td>0.000000</td>\n",
              "      <td>0.000000</td>\n",
              "      <td>0.000000</td>\n",
              "      <td>0.000000</td>\n",
              "      <td>0.000000</td>\n",
              "      <td>0.000000</td>\n",
              "      <td>0.000000</td>\n",
              "      <td>0.000000</td>\n",
              "    </tr>\n",
              "    <tr>\n",
              "      <th>26205</th>\n",
              "      <td>0.000000e+00</td>\n",
              "      <td>0.000000e+00</td>\n",
              "      <td>0.000000e+00</td>\n",
              "      <td>0.000000e+00</td>\n",
              "      <td>0.000000e+00</td>\n",
              "      <td>0.000000e+00</td>\n",
              "      <td>0.000000e+00</td>\n",
              "      <td>0.000000e+00</td>\n",
              "      <td>0.000000e+00</td>\n",
              "      <td>0.000000</td>\n",
              "      <td>23.936364</td>\n",
              "      <td>0.000000</td>\n",
              "      <td>0.000000</td>\n",
              "      <td>0.000000</td>\n",
              "      <td>0.000000</td>\n",
              "      <td>0.000000</td>\n",
              "      <td>0.000000</td>\n",
              "      <td>0.000000</td>\n",
              "      <td>0.000000</td>\n",
              "    </tr>\n",
              "    <tr>\n",
              "      <th>26206</th>\n",
              "      <td>0.000000e+00</td>\n",
              "      <td>0.000000e+00</td>\n",
              "      <td>0.000000e+00</td>\n",
              "      <td>0.000000e+00</td>\n",
              "      <td>0.000000e+00</td>\n",
              "      <td>0.000000e+00</td>\n",
              "      <td>0.000000e+00</td>\n",
              "      <td>0.000000e+00</td>\n",
              "      <td>0.000000e+00</td>\n",
              "      <td>0.000000</td>\n",
              "      <td>23.781818</td>\n",
              "      <td>0.000000</td>\n",
              "      <td>0.000000</td>\n",
              "      <td>0.000000</td>\n",
              "      <td>0.000000</td>\n",
              "      <td>0.000000</td>\n",
              "      <td>0.000000</td>\n",
              "      <td>0.000000</td>\n",
              "      <td>0.000000</td>\n",
              "    </tr>\n",
              "    <tr>\n",
              "      <th>26207</th>\n",
              "      <td>0.000000e+00</td>\n",
              "      <td>0.000000e+00</td>\n",
              "      <td>0.000000e+00</td>\n",
              "      <td>0.000000e+00</td>\n",
              "      <td>0.000000e+00</td>\n",
              "      <td>0.000000e+00</td>\n",
              "      <td>0.000000e+00</td>\n",
              "      <td>0.000000e+00</td>\n",
              "      <td>0.000000e+00</td>\n",
              "      <td>0.000000</td>\n",
              "      <td>24.200000</td>\n",
              "      <td>0.000000</td>\n",
              "      <td>0.000000</td>\n",
              "      <td>0.000000</td>\n",
              "      <td>0.000000</td>\n",
              "      <td>0.000000</td>\n",
              "      <td>0.000000</td>\n",
              "      <td>0.000000</td>\n",
              "      <td>0.000000</td>\n",
              "    </tr>\n",
              "  </tbody>\n",
              "</table>\n",
              "<p>26208 rows × 19 columns</p>\n",
              "</div>"
            ],
            "text/plain": [
              "            EMA_now     EMA_30min     EMA_60min     EMA_90min    EMA_120min  \\\n",
              "0      0.000000e+00  0.000000e+00  0.000000e+00  0.000000e+00  0.000000e+00   \n",
              "1      0.000000e+00  0.000000e+00  0.000000e+00  0.000000e+00  0.000000e+00   \n",
              "2      0.000000e+00  0.000000e+00  0.000000e+00  0.000000e+00  0.000000e+00   \n",
              "3      0.000000e+00  0.000000e+00  0.000000e+00  0.000000e+00  0.000000e+00   \n",
              "4      0.000000e+00  0.000000e+00  0.000000e+00  0.000000e+00  0.000000e+00   \n",
              "5      0.000000e+00  0.000000e+00  0.000000e+00  0.000000e+00  0.000000e+00   \n",
              "6      0.000000e+00  0.000000e+00  0.000000e+00  0.000000e+00  0.000000e+00   \n",
              "7      0.000000e+00  0.000000e+00  0.000000e+00  0.000000e+00  0.000000e+00   \n",
              "8      0.000000e+00  0.000000e+00  0.000000e+00  0.000000e+00  0.000000e+00   \n",
              "9      0.000000e+00  0.000000e+00  0.000000e+00  0.000000e+00  0.000000e+00   \n",
              "10     0.000000e+00  0.000000e+00  0.000000e+00  0.000000e+00  0.000000e+00   \n",
              "11     0.000000e+00  0.000000e+00  0.000000e+00  0.000000e+00  0.000000e+00   \n",
              "12     0.000000e+00  0.000000e+00  0.000000e+00  0.000000e+00  0.000000e+00   \n",
              "13     0.000000e+00  0.000000e+00  0.000000e+00  0.000000e+00  0.000000e+00   \n",
              "14     0.000000e+00  0.000000e+00  0.000000e+00  0.000000e+00  0.000000e+00   \n",
              "15     0.000000e+00  0.000000e+00  0.000000e+00  0.000000e+00  0.000000e+00   \n",
              "16     0.000000e+00  0.000000e+00  0.000000e+00  0.000000e+00  0.000000e+00   \n",
              "17     0.000000e+00  0.000000e+00  0.000000e+00  0.000000e+00  0.000000e+00   \n",
              "18     0.000000e+00  0.000000e+00  0.000000e+00  0.000000e+00  0.000000e+00   \n",
              "19     0.000000e+00  0.000000e+00  0.000000e+00  0.000000e+00  0.000000e+00   \n",
              "20     0.000000e+00  0.000000e+00  0.000000e+00  0.000000e+00  0.000000e+00   \n",
              "21     0.000000e+00  0.000000e+00  0.000000e+00  0.000000e+00  0.000000e+00   \n",
              "22     0.000000e+00  0.000000e+00  0.000000e+00  0.000000e+00  0.000000e+00   \n",
              "23     0.000000e+00  0.000000e+00  0.000000e+00  0.000000e+00  0.000000e+00   \n",
              "24     0.000000e+00  0.000000e+00  0.000000e+00  0.000000e+00  0.000000e+00   \n",
              "25     0.000000e+00  0.000000e+00  0.000000e+00  0.000000e+00  0.000000e+00   \n",
              "26     0.000000e+00  0.000000e+00  0.000000e+00  0.000000e+00  0.000000e+00   \n",
              "27     0.000000e+00  0.000000e+00  0.000000e+00  0.000000e+00  0.000000e+00   \n",
              "28     0.000000e+00  0.000000e+00  0.000000e+00  0.000000e+00  0.000000e+00   \n",
              "29     0.000000e+00  0.000000e+00  0.000000e+00  0.000000e+00  0.000000e+00   \n",
              "...             ...           ...           ...           ...           ...   \n",
              "26178  5.706158e+02  5.569118e+02  7.221061e+02  5.785971e+02  8.938703e+02   \n",
              "26179  5.569118e+02  7.221061e+02  5.785971e+02  8.938703e+02  6.531382e+02   \n",
              "26180  7.221061e+02  5.785971e+02  8.938703e+02  6.531382e+02  7.955479e+02   \n",
              "26181  5.785971e+02  8.938703e+02  6.531382e+02  7.955479e+02  7.885098e+02   \n",
              "26182  8.938703e+02  6.531382e+02  7.955479e+02  7.885098e+02  8.074738e+02   \n",
              "26183  6.531382e+02  7.955479e+02  7.885098e+02  8.074738e+02  6.364766e+02   \n",
              "26184  7.955479e+02  7.885098e+02  8.074738e+02  6.364766e+02  7.644434e+02   \n",
              "26185  7.885098e+02  8.074738e+02  6.364766e+02  7.644434e+02  5.962422e+02   \n",
              "26186  8.074738e+02  6.364766e+02  7.644434e+02  5.962422e+02  6.638551e+02   \n",
              "26187  6.364766e+02  7.644434e+02  5.962422e+02  6.638551e+02  5.181760e+02   \n",
              "26188  7.644434e+02  5.962422e+02  6.638551e+02  5.181760e+02  4.785733e+02   \n",
              "26189  5.962422e+02  6.638551e+02  5.181760e+02  4.785733e+02  2.516613e+02   \n",
              "26190  6.638551e+02  5.181760e+02  4.785733e+02  2.516613e+02  8.942232e+01   \n",
              "26191  5.181760e+02  4.785733e+02  2.516613e+02  8.942232e+01  7.377219e+01   \n",
              "26192  4.785733e+02  2.516613e+02  8.942232e+01  7.377219e+01  4.712741e+01   \n",
              "26193  2.516613e+02  8.942232e+01  7.377219e+01  4.712741e+01  1.377258e+01   \n",
              "26194  8.942232e+01  7.377219e+01  4.712741e+01  1.377258e+01  1.554545e-09   \n",
              "26195  7.377219e+01  4.712741e+01  1.377258e+01  1.554545e-09  0.000000e+00   \n",
              "26196  4.712741e+01  1.377258e+01  1.554545e-09  0.000000e+00  0.000000e+00   \n",
              "26197  1.377258e+01  1.554545e-09  0.000000e+00  0.000000e+00  0.000000e+00   \n",
              "26198  1.554545e-09  0.000000e+00  0.000000e+00  0.000000e+00  0.000000e+00   \n",
              "26199  0.000000e+00  0.000000e+00  0.000000e+00  0.000000e+00  0.000000e+00   \n",
              "26200  0.000000e+00  0.000000e+00  0.000000e+00  0.000000e+00  0.000000e+00   \n",
              "26201  0.000000e+00  0.000000e+00  0.000000e+00  0.000000e+00  0.000000e+00   \n",
              "26202  0.000000e+00  0.000000e+00  0.000000e+00  0.000000e+00  0.000000e+00   \n",
              "26203  0.000000e+00  0.000000e+00  0.000000e+00  0.000000e+00  0.000000e+00   \n",
              "26204  0.000000e+00  0.000000e+00  0.000000e+00  0.000000e+00  0.000000e+00   \n",
              "26205  0.000000e+00  0.000000e+00  0.000000e+00  0.000000e+00  0.000000e+00   \n",
              "26206  0.000000e+00  0.000000e+00  0.000000e+00  0.000000e+00  0.000000e+00   \n",
              "26207  0.000000e+00  0.000000e+00  0.000000e+00  0.000000e+00  0.000000e+00   \n",
              "\n",
              "         EMA_150min    EMA_180min    EMA_210min    EMA_240min   Iradiance  \\\n",
              "0      0.000000e+00  0.000000e+00  0.000000e+00  0.000000e+00    0.000000   \n",
              "1      0.000000e+00  0.000000e+00  0.000000e+00  0.000000e+00    0.000000   \n",
              "2      0.000000e+00  0.000000e+00  0.000000e+00  0.000000e+00    0.000000   \n",
              "3      0.000000e+00  0.000000e+00  0.000000e+00  0.000000e+00    0.000000   \n",
              "4      0.000000e+00  0.000000e+00  0.000000e+00  0.000000e+00    0.000000   \n",
              "5      0.000000e+00  0.000000e+00  0.000000e+00  0.000000e+00    0.000000   \n",
              "6      0.000000e+00  0.000000e+00  0.000000e+00  0.000000e+00    0.000000   \n",
              "7      0.000000e+00  0.000000e+00  0.000000e+00  0.000000e+00    0.000000   \n",
              "8      0.000000e+00  0.000000e+00  0.000000e+00  0.000000e+00    0.000000   \n",
              "9      0.000000e+00  0.000000e+00  0.000000e+00  0.000000e+00    0.000000   \n",
              "10     0.000000e+00  0.000000e+00  0.000000e+00  0.000000e+00    0.000000   \n",
              "11     0.000000e+00  0.000000e+00  0.000000e+00  0.000000e+00    0.000000   \n",
              "12     0.000000e+00  0.000000e+00  0.000000e+00  0.000000e+00    0.000000   \n",
              "13     0.000000e+00  0.000000e+00  0.000000e+00  0.000000e+00    0.000000   \n",
              "14     0.000000e+00  0.000000e+00  0.000000e+00  0.000000e+00   19.227273   \n",
              "15     0.000000e+00  0.000000e+00  0.000000e+00  0.000000e+00   62.363636   \n",
              "16     0.000000e+00  0.000000e+00  0.000000e+00  0.000000e+00  118.636364   \n",
              "17     0.000000e+00  0.000000e+00  0.000000e+00  0.000000e+00  144.545455   \n",
              "18     0.000000e+00  0.000000e+00  0.000000e+00  0.000000e+00  184.272727   \n",
              "19     0.000000e+00  0.000000e+00  0.000000e+00  0.000000e+00  325.818182   \n",
              "20     0.000000e+00  0.000000e+00  0.000000e+00  0.000000e+00  501.000000   \n",
              "21     0.000000e+00  0.000000e+00  0.000000e+00  0.000000e+00  637.727273   \n",
              "22     0.000000e+00  0.000000e+00  0.000000e+00  0.000000e+00  630.727273   \n",
              "23     0.000000e+00  0.000000e+00  0.000000e+00  0.000000e+00  625.272727   \n",
              "24     0.000000e+00  0.000000e+00  0.000000e+00  0.000000e+00  599.545455   \n",
              "25     0.000000e+00  0.000000e+00  0.000000e+00  0.000000e+00  602.681818   \n",
              "26     0.000000e+00  0.000000e+00  0.000000e+00  0.000000e+00  367.954545   \n",
              "27     0.000000e+00  0.000000e+00  0.000000e+00  0.000000e+00  354.409091   \n",
              "28     0.000000e+00  0.000000e+00  0.000000e+00  0.000000e+00  474.181818   \n",
              "29     0.000000e+00  0.000000e+00  0.000000e+00  0.000000e+00  272.727273   \n",
              "...             ...           ...           ...           ...         ...   \n",
              "26178  6.531382e+02  7.955479e+02  7.885098e+02  8.074738e+02  594.500000   \n",
              "26179  7.955479e+02  7.885098e+02  8.074738e+02  6.364766e+02  577.818182   \n",
              "26180  7.885098e+02  8.074738e+02  6.364766e+02  7.644434e+02  758.272727   \n",
              "26181  8.074738e+02  6.364766e+02  7.644434e+02  5.962422e+02  601.318182   \n",
              "26182  6.364766e+02  7.644434e+02  5.962422e+02  6.638551e+02  949.272727   \n",
              "26183  7.644434e+02  5.962422e+02  6.638551e+02  5.181760e+02  672.409091   \n",
              "26184  5.962422e+02  6.638551e+02  5.181760e+02  4.785733e+02  824.954545   \n",
              "26185  6.638551e+02  5.181760e+02  4.785733e+02  2.516613e+02  799.909091   \n",
              "26186  5.181760e+02  4.785733e+02  2.516613e+02  8.942232e+01  850.545455   \n",
              "26187  4.785733e+02  2.516613e+02  8.942232e+01  7.377219e+01  667.454545   \n",
              "26188  2.516613e+02  8.942232e+01  7.377219e+01  4.712741e+01  795.272727   \n",
              "26189  8.942232e+01  7.377219e+01  4.712741e+01  1.377258e+01  594.681818   \n",
              "26190  7.377219e+01  4.712741e+01  1.377258e+01  1.554545e-09  699.363636   \n",
              "26191  4.712741e+01  1.377258e+01  1.554545e-09  0.000000e+00  558.545455   \n",
              "26192  1.377258e+01  1.554545e-09  0.000000e+00  0.000000e+00  508.090909   \n",
              "26193  1.554545e-09  0.000000e+00  0.000000e+00  0.000000e+00  251.136364   \n",
              "26194  0.000000e+00  0.000000e+00  0.000000e+00  0.000000e+00   78.454545   \n",
              "26195  0.000000e+00  0.000000e+00  0.000000e+00  0.000000e+00   67.363636   \n",
              "26196  0.000000e+00  0.000000e+00  0.000000e+00  0.000000e+00   44.363636   \n",
              "26197  0.000000e+00  0.000000e+00  0.000000e+00  0.000000e+00   13.727273   \n",
              "26198  0.000000e+00  0.000000e+00  0.000000e+00  0.000000e+00    0.000000   \n",
              "26199  0.000000e+00  0.000000e+00  0.000000e+00  0.000000e+00    0.000000   \n",
              "26200  0.000000e+00  0.000000e+00  0.000000e+00  0.000000e+00    0.000000   \n",
              "26201  0.000000e+00  0.000000e+00  0.000000e+00  0.000000e+00    0.000000   \n",
              "26202  0.000000e+00  0.000000e+00  0.000000e+00  0.000000e+00    0.000000   \n",
              "26203  0.000000e+00  0.000000e+00  0.000000e+00  0.000000e+00    0.000000   \n",
              "26204  0.000000e+00  0.000000e+00  0.000000e+00  0.000000e+00    0.000000   \n",
              "26205  0.000000e+00  0.000000e+00  0.000000e+00  0.000000e+00    0.000000   \n",
              "26206  0.000000e+00  0.000000e+00  0.000000e+00  0.000000e+00    0.000000   \n",
              "26207  0.000000e+00  0.000000e+00  0.000000e+00  0.000000e+00    0.000000   \n",
              "\n",
              "       Temperature     Power  Power_30min  Power_60min  Power_90min  \\\n",
              "0        26.450000  0.000000     0.000000     0.000000     0.000000   \n",
              "1        26.081818  0.000000     0.000000     0.000000     0.000000   \n",
              "2        25.881818  0.000000     0.000000     0.000000     0.000000   \n",
              "3        25.690909  0.000000     0.000000     0.000000     0.000000   \n",
              "4        25.572727  0.000000     0.000000     0.000000     0.000000   \n",
              "5        25.400000  0.000000     0.000000     0.000000     0.000000   \n",
              "6        25.281818  0.000000     0.000000     0.000000     0.000000   \n",
              "7        25.090909  0.000000     0.000000     0.000000     0.000000   \n",
              "8        25.000000  0.000000     0.000000     0.000000     0.000000   \n",
              "9        24.909091  0.000000     0.000000     0.000000     0.000000   \n",
              "10       24.800000  0.000000     0.000000     0.000000     0.000000   \n",
              "11       24.727273  0.000000     0.000000     0.000000     0.065455   \n",
              "12       24.572727  0.000000     0.000000     0.065455     0.261818   \n",
              "13       24.536364  0.000000     0.065455     0.261818     0.621818   \n",
              "14       24.481818  0.065455     0.261818     0.621818     0.861818   \n",
              "15       24.427273  0.261818     0.621818     0.861818     1.080000   \n",
              "16       24.890909  0.621818     0.861818     1.080000     2.083636   \n",
              "17       24.636364  0.861818     1.080000     2.083636     3.720000   \n",
              "18       25.181818  1.080000     2.083636     3.720000     4.669091   \n",
              "19       26.027273  2.083636     3.720000     4.669091     4.603636   \n",
              "20       27.027273  3.720000     4.669091     4.603636     3.981818   \n",
              "21       28.195455  4.669091     4.603636     3.981818     4.090909   \n",
              "22       28.922727  4.603636     3.981818     4.090909     4.636364   \n",
              "23       28.827273  3.981818     4.090909     4.636364     2.503636   \n",
              "24       29.654545  4.090909     4.636364     2.503636     2.389091   \n",
              "25       30.509091  4.636364     2.503636     2.389091     3.469091   \n",
              "26       29.800000  2.503636     2.389091     3.469091     1.549091   \n",
              "27       29.518182  2.389091     3.469091     1.549091     1.112727   \n",
              "28       30.340909  3.469091     1.549091     1.112727     0.981818   \n",
              "29       30.445455  1.549091     1.112727     0.981818     1.538182   \n",
              "...            ...       ...          ...          ...          ...   \n",
              "26178    31.363636  3.229091     3.185455     4.216364     3.679091   \n",
              "26179    32.290909  3.185455     4.216364     3.679091     5.110909   \n",
              "26180    32.786364  4.216364     3.679091     5.110909     3.872727   \n",
              "26181    33.272727  3.679091     5.110909     3.872727     4.445455   \n",
              "26182    34.372727  5.110909     3.872727     4.445455     4.958182   \n",
              "26183    34.550000  3.872727     4.445455     4.958182     5.015455   \n",
              "26184    35.890909  4.445455     4.958182     5.015455     4.374545   \n",
              "26185    36.881818  4.958182     5.015455     4.374545     4.407273   \n",
              "26186    37.118182  5.015455     4.374545     4.407273     3.332727   \n",
              "26187    37.068182  4.374545     4.407273     3.332727     3.812727   \n",
              "26188    37.404545  4.407273     3.332727     3.812727     2.989091   \n",
              "26189    35.622727  3.332727     3.812727     2.989091     2.580000   \n",
              "26190    36.922727  3.812727     2.989091     2.580000     1.729091   \n",
              "26191    36.336364  2.989091     2.580000     1.729091     0.567273   \n",
              "26192    37.154545  2.580000     1.729091     0.567273     0.245455   \n",
              "26193    34.004545  1.729091     0.567273     0.245455     0.141818   \n",
              "26194    32.327273  0.567273     0.245455     0.141818     0.016364   \n",
              "26195    31.872727  0.245455     0.141818     0.016364     0.000000   \n",
              "26196    31.172727  0.141818     0.016364     0.000000     0.000000   \n",
              "26197    30.445455  0.016364     0.000000     0.000000     0.000000   \n",
              "26198    30.027273  0.000000     0.000000     0.000000     0.000000   \n",
              "26199    29.800000  0.000000     0.000000     0.000000     0.000000   \n",
              "26200    29.654545  0.000000     0.000000     0.000000     0.000000   \n",
              "26201    29.418182  0.000000     0.000000     0.000000     0.000000   \n",
              "26202    25.790909  0.000000     0.000000     0.000000     0.000000   \n",
              "26203    24.681818  0.000000     0.000000     0.000000     0.000000   \n",
              "26204    24.418182  0.000000     0.000000     0.000000     0.000000   \n",
              "26205    23.936364  0.000000     0.000000     0.000000     0.000000   \n",
              "26206    23.781818  0.000000     0.000000     0.000000     0.000000   \n",
              "26207    24.200000  0.000000     0.000000     0.000000     0.000000   \n",
              "\n",
              "       Power_120min  Power_150min  Power_180min  Power_210min  \n",
              "0          0.000000      0.000000      0.000000      0.000000  \n",
              "1          0.000000      0.000000      0.000000      0.000000  \n",
              "2          0.000000      0.000000      0.000000      0.000000  \n",
              "3          0.000000      0.000000      0.000000      0.000000  \n",
              "4          0.000000      0.000000      0.000000      0.000000  \n",
              "5          0.000000      0.000000      0.000000      0.000000  \n",
              "6          0.000000      0.000000      0.000000      0.000000  \n",
              "7          0.000000      0.000000      0.000000      0.065455  \n",
              "8          0.000000      0.000000      0.065455      0.261818  \n",
              "9          0.000000      0.065455      0.261818      0.621818  \n",
              "10         0.065455      0.261818      0.621818      0.861818  \n",
              "11         0.261818      0.621818      0.861818      1.080000  \n",
              "12         0.621818      0.861818      1.080000      2.083636  \n",
              "13         0.861818      1.080000      2.083636      3.720000  \n",
              "14         1.080000      2.083636      3.720000      4.669091  \n",
              "15         2.083636      3.720000      4.669091      4.603636  \n",
              "16         3.720000      4.669091      4.603636      3.981818  \n",
              "17         4.669091      4.603636      3.981818      4.090909  \n",
              "18         4.603636      3.981818      4.090909      4.636364  \n",
              "19         3.981818      4.090909      4.636364      2.503636  \n",
              "20         4.090909      4.636364      2.503636      2.389091  \n",
              "21         4.636364      2.503636      2.389091      3.469091  \n",
              "22         2.503636      2.389091      3.469091      1.549091  \n",
              "23         2.389091      3.469091      1.549091      1.112727  \n",
              "24         3.469091      1.549091      1.112727      0.981818  \n",
              "25         1.549091      1.112727      0.981818      1.538182  \n",
              "26         1.112727      0.981818      1.538182      0.545455  \n",
              "27         0.981818      1.538182      0.545455      0.283636  \n",
              "28         1.538182      0.545455      0.283636      0.076364  \n",
              "29         0.545455      0.283636      0.076364      0.000000  \n",
              "...             ...           ...           ...           ...  \n",
              "26178      5.110909      3.872727      4.445455      4.958182  \n",
              "26179      3.872727      4.445455      4.958182      5.015455  \n",
              "26180      4.445455      4.958182      5.015455      4.374545  \n",
              "26181      4.958182      5.015455      4.374545      4.407273  \n",
              "26182      5.015455      4.374545      4.407273      3.332727  \n",
              "26183      4.374545      4.407273      3.332727      3.812727  \n",
              "26184      4.407273      3.332727      3.812727      2.989091  \n",
              "26185      3.332727      3.812727      2.989091      2.580000  \n",
              "26186      3.812727      2.989091      2.580000      1.729091  \n",
              "26187      2.989091      2.580000      1.729091      0.567273  \n",
              "26188      2.580000      1.729091      0.567273      0.245455  \n",
              "26189      1.729091      0.567273      0.245455      0.141818  \n",
              "26190      0.567273      0.245455      0.141818      0.016364  \n",
              "26191      0.245455      0.141818      0.016364      0.000000  \n",
              "26192      0.141818      0.016364      0.000000      0.000000  \n",
              "26193      0.016364      0.000000      0.000000      0.000000  \n",
              "26194      0.000000      0.000000      0.000000      0.000000  \n",
              "26195      0.000000      0.000000      0.000000      0.000000  \n",
              "26196      0.000000      0.000000      0.000000      0.000000  \n",
              "26197      0.000000      0.000000      0.000000      0.000000  \n",
              "26198      0.000000      0.000000      0.000000      0.000000  \n",
              "26199      0.000000      0.000000      0.000000      0.000000  \n",
              "26200      0.000000      0.000000      0.000000      0.000000  \n",
              "26201      0.000000      0.000000      0.000000      0.000000  \n",
              "26202      0.000000      0.000000      0.000000      0.000000  \n",
              "26203      0.000000      0.000000      0.000000      0.000000  \n",
              "26204      0.000000      0.000000      0.000000      0.000000  \n",
              "26205      0.000000      0.000000      0.000000      0.000000  \n",
              "26206      0.000000      0.000000      0.000000      0.000000  \n",
              "26207      0.000000      0.000000      0.000000      0.000000  \n",
              "\n",
              "[26208 rows x 19 columns]"
            ]
          },
          "metadata": {
            "tags": []
          },
          "execution_count": 15
        }
      ]
    },
    {
      "metadata": {
        "id": "brSWyPTmzcBg",
        "colab_type": "code",
        "colab": {
          "base_uri": "https://localhost:8080/",
          "height": 35
        },
        "outputId": "1c12a992-e31d-4afc-e684-06b69d8e135a"
      },
      "cell_type": "code",
      "source": [
        "ggg.shape"
      ],
      "execution_count": 16,
      "outputs": [
        {
          "output_type": "execute_result",
          "data": {
            "text/plain": [
              "(26208, 19)"
            ]
          },
          "metadata": {
            "tags": []
          },
          "execution_count": 16
        }
      ]
    },
    {
      "metadata": {
        "id": "4P-tsYbg14fl",
        "colab_type": "text"
      },
      "cell_type": "markdown",
      "source": [
        "## 3. Prepare input of time series"
      ]
    },
    {
      "metadata": {
        "id": "huwREzkk1ugR",
        "colab_type": "code",
        "colab": {}
      },
      "cell_type": "code",
      "source": [
        "def get_batch(X_origin, steps, start_indices):\n",
        "    '''\n",
        "    This method will generate input and output of time-series for RNN, for example\n",
        "    input --> x(t-2) x(t-1) x(t)\n",
        "    target --> x(t-1) x(t) x(t+1)\n",
        "    '''\n",
        "    X = X_origin.copy()\n",
        "    \n",
        "    start = start_indices[0]\n",
        "    train_batch = np.array(X[start:start+steps+1, :]).reshape(steps+1, 19)\n",
        "    \n",
        "    train_return = train_batch[:-1,:-7].reshape(-1, steps, 12) #train_batch[:-1,:-5]\n",
        "    target_return = train_batch[1:,-8:].reshape(-1, steps, 8) # train_batch[1:,-5:]\n",
        "    \n",
        "    for k, start in enumerate(start_indices):\n",
        "        \n",
        "        if k != 0:\n",
        "            train_batch = np.array(X[start:start+steps+1, :]).reshape(steps+1, 19)[:-1,:-7].reshape(-1, steps, 12)\n",
        "            target_batch = np.array(X[start:start+steps+1, :]).reshape(steps+1, 19)[1:,-8:].reshape(-1, steps, 8)\n",
        "            train_return = np.concatenate((train_return, train_batch), axis = 0)\n",
        "            target_return = np.concatenate((target_return, target_batch), axis = 0)\n",
        "    \n",
        "    return train_return, target_return"
      ],
      "execution_count": 0,
      "outputs": []
    },
    {
      "metadata": {
        "id": "w4YBEPoh16-9",
        "colab_type": "code",
        "colab": {
          "base_uri": "https://localhost:8080/",
          "height": 301
        },
        "outputId": "92b3968a-253b-4a84-a281-3fb83f502a8e"
      },
      "cell_type": "code",
      "source": [
        "## Unit Test\n",
        "solar_mat = ggg.as_matrix().copy() #Solar_input -->ggg\n",
        "solar_mat[0:4, :].reshape(4,19)"
      ],
      "execution_count": 20,
      "outputs": [
        {
          "output_type": "execute_result",
          "data": {
            "text/plain": [
              "array([[ 0.        ,  0.        ,  0.        ,  0.        ,  0.        ,\n",
              "         0.        ,  0.        ,  0.        ,  0.        ,  0.        ,\n",
              "        26.45      ,  0.        ,  0.        ,  0.        ,  0.        ,\n",
              "         0.        ,  0.        ,  0.        ,  0.        ],\n",
              "       [ 0.        ,  0.        ,  0.        ,  0.        ,  0.        ,\n",
              "         0.        ,  0.        ,  0.        ,  0.        ,  0.        ,\n",
              "        26.08181818,  0.        ,  0.        ,  0.        ,  0.        ,\n",
              "         0.        ,  0.        ,  0.        ,  0.        ],\n",
              "       [ 0.        ,  0.        ,  0.        ,  0.        ,  0.        ,\n",
              "         0.        ,  0.        ,  0.        ,  0.        ,  0.        ,\n",
              "        25.88181818,  0.        ,  0.        ,  0.        ,  0.        ,\n",
              "         0.        ,  0.        ,  0.        ,  0.        ],\n",
              "       [ 0.        ,  0.        ,  0.        ,  0.        ,  0.        ,\n",
              "         0.        ,  0.        ,  0.        ,  0.        ,  0.        ,\n",
              "        25.69090909,  0.        ,  0.        ,  0.        ,  0.        ,\n",
              "         0.        ,  0.        ,  0.        ,  0.        ]])"
            ]
          },
          "metadata": {
            "tags": []
          },
          "execution_count": 20
        }
      ]
    },
    {
      "metadata": {
        "id": "NqwN38kV9iEY",
        "colab_type": "code",
        "colab": {
          "base_uri": "https://localhost:8080/",
          "height": 35
        },
        "outputId": "a97053c8-d394-476c-fb77-d998bc3704ee"
      },
      "cell_type": "code",
      "source": [
        "solar_mat.shape"
      ],
      "execution_count": 21,
      "outputs": [
        {
          "output_type": "execute_result",
          "data": {
            "text/plain": [
              "(26208, 19)"
            ]
          },
          "metadata": {
            "tags": []
          },
          "execution_count": 21
        }
      ]
    },
    {
      "metadata": {
        "id": "KmSQIetg9u_R",
        "colab_type": "code",
        "colab": {
          "base_uri": "https://localhost:8080/",
          "height": 52
        },
        "outputId": "b0bb150c-6065-4978-84dd-a0ebc500fe1d"
      },
      "cell_type": "code",
      "source": [
        "# split train and test set\n",
        "test_set_ratio = 0.05\n",
        "full_len = solar_mat.shape[0]\n",
        "\n",
        "len_train = round(full_len*(1-test_set_ratio))\n",
        "\n",
        "solar_train_origin = ggg.iloc[:len_train, :].as_matrix().copy() #Solar_input -->ggg\n",
        "solar_test_origin = ggg.iloc[len_train+1:, :].as_matrix().copy() #Solar_input -->ggg\n",
        "\n",
        "print('data train shape', len(solar_train_origin))\n",
        "print('data test shape', len(solar_test_origin))"
      ],
      "execution_count": 22,
      "outputs": [
        {
          "output_type": "stream",
          "text": [
            "data train shape 24898\n",
            "data test shape 1309\n"
          ],
          "name": "stdout"
        }
      ]
    },
    {
      "metadata": {
        "id": "T4KY99189xlh",
        "colab_type": "code",
        "colab": {}
      },
      "cell_type": "code",
      "source": [
        "solar_train_origin_data = pd.DataFrame(solar_train_origin)"
      ],
      "execution_count": 0,
      "outputs": []
    },
    {
      "metadata": {
        "id": "de0SjRTC-pMj",
        "colab_type": "code",
        "colab": {}
      },
      "cell_type": "code",
      "source": [
        "solar_test_origin_data = pd.DataFrame(solar_test_origin)"
      ],
      "execution_count": 0,
      "outputs": []
    },
    {
      "metadata": {
        "id": "mAfeVwKr-r1l",
        "colab_type": "code",
        "colab": {
          "base_uri": "https://localhost:8080/",
          "height": 35
        },
        "outputId": "545afcf6-0028-4b16-e4a9-7da4de4d5db1"
      },
      "cell_type": "code",
      "source": [
        "solar_train_origin_data.shape"
      ],
      "execution_count": 25,
      "outputs": [
        {
          "output_type": "execute_result",
          "data": {
            "text/plain": [
              "(24898, 19)"
            ]
          },
          "metadata": {
            "tags": []
          },
          "execution_count": 25
        }
      ]
    },
    {
      "metadata": {
        "id": "JwE-Luhn-yNt",
        "colab_type": "code",
        "colab": {
          "base_uri": "https://localhost:8080/",
          "height": 35
        },
        "outputId": "6ab3fb61-f929-48a9-fbc2-9d6e1e0052da"
      },
      "cell_type": "code",
      "source": [
        "solar_test_origin_data.shape"
      ],
      "execution_count": 26,
      "outputs": [
        {
          "output_type": "execute_result",
          "data": {
            "text/plain": [
              "(1309, 19)"
            ]
          },
          "metadata": {
            "tags": []
          },
          "execution_count": 26
        }
      ]
    },
    {
      "metadata": {
        "id": "sgG3HZ41-1h7",
        "colab_type": "code",
        "colab": {
          "base_uri": "https://localhost:8080/",
          "height": 52
        },
        "outputId": "f34efa21-0f90-4d73-90bf-ab7372dfe0c1"
      },
      "cell_type": "code",
      "source": [
        "print(full_len)\n",
        "print(len_train)"
      ],
      "execution_count": 27,
      "outputs": [
        {
          "output_type": "stream",
          "text": [
            "26208\n",
            "24898\n"
          ],
          "name": "stdout"
        }
      ]
    },
    {
      "metadata": {
        "id": "5LBjVD52-_lU",
        "colab_type": "code",
        "colab": {
          "base_uri": "https://localhost:8080/",
          "height": 35
        },
        "outputId": "c6f19a3e-514c-4c68-db4d-675ef301df8e"
      },
      "cell_type": "code",
      "source": [
        "# normalize input\n",
        "from sklearn.preprocessing import MinMaxScaler\n",
        "\n",
        "scaler = MinMaxScaler()\n",
        "solar_train_origin_scale = scaler.fit_transform(solar_train_origin)\n",
        "solar_test_origin_scale = scaler.transform(solar_test_origin)\n",
        "\n",
        "scaler.data_min_.shape\n"
      ],
      "execution_count": 28,
      "outputs": [
        {
          "output_type": "execute_result",
          "data": {
            "text/plain": [
              "(19,)"
            ]
          },
          "metadata": {
            "tags": []
          },
          "execution_count": 28
        }
      ]
    },
    {
      "metadata": {
        "id": "MVulvOpT_BGx",
        "colab_type": "code",
        "colab": {}
      },
      "cell_type": "code",
      "source": [
        "def inverse_transform(input_, scaler):\n",
        "    min_data = scaler.data_min_[12]   #index of power in ggg\n",
        "    max_data = scaler.data_max_[12]\n",
        "    \n",
        "    return input_*(max_data - min_data) + min_data\n",
        "    "
      ],
      "execution_count": 0,
      "outputs": []
    },
    {
      "metadata": {
        "id": "5K0t3jzk_0M2",
        "colab_type": "code",
        "colab": {}
      },
      "cell_type": "code",
      "source": [
        "output_ = inverse_transform(solar_test_origin_scale[:,-8:], scaler) #4or5 is ok"
      ],
      "execution_count": 0,
      "outputs": []
    },
    {
      "metadata": {
        "id": "_sTWIJbMAf32",
        "colab_type": "code",
        "colab": {
          "base_uri": "https://localhost:8080/",
          "height": 35
        },
        "outputId": "7c30181e-3a33-4422-e07d-0d4df900e805"
      },
      "cell_type": "code",
      "source": [
        "output_.shape"
      ],
      "execution_count": 31,
      "outputs": [
        {
          "output_type": "execute_result",
          "data": {
            "text/plain": [
              "(1309, 8)"
            ]
          },
          "metadata": {
            "tags": []
          },
          "execution_count": 31
        }
      ]
    },
    {
      "metadata": {
        "id": "pREhRNSSA8LI",
        "colab_type": "code",
        "colab": {
          "base_uri": "https://localhost:8080/",
          "height": 35
        },
        "outputId": "73a050b1-acf8-4f06-e643-e677c5aa0ab5"
      },
      "cell_type": "code",
      "source": [
        "np.sum(output_ - solar_test_origin[:,-8:])"
      ],
      "execution_count": 32,
      "outputs": [
        {
          "output_type": "execute_result",
          "data": {
            "text/plain": [
              "-2.0863866190268254e-13"
            ]
          },
          "metadata": {
            "tags": []
          },
          "execution_count": 32
        }
      ]
    },
    {
      "metadata": {
        "id": "WVOeQtV2BRCX",
        "colab_type": "text"
      },
      "cell_type": "markdown",
      "source": [
        "# 4 Model Selection"
      ]
    },
    {
      "metadata": {
        "id": "_RP5AaqKBAhv",
        "colab_type": "code",
        "colab": {}
      },
      "cell_type": "code",
      "source": [
        "num_inputs = 12\n",
        "num_outputs = 8\n",
        "\n",
        "num_time_steps = 12\n",
        "forecast_steps = 1\n",
        "\n",
        "## layers of RNN \n",
        "num_layers = 2      \n",
        "## dropout regularization\n",
        "keepprob = 0.8         \n",
        "\n",
        "learning_rate = 0.005\n",
        "num_neurons = 256\n",
        "batch_size = 2**5\n",
        "\n",
        "gpu_options = tf.GPUOptions(per_process_gpu_memory_fraction = 0.9)\n"
      ],
      "execution_count": 0,
      "outputs": []
    },
    {
      "metadata": {
        "id": "Pn3eLk6MBTiX",
        "colab_type": "code",
        "colab": {}
      },
      "cell_type": "code",
      "source": [
        "import tensorflow as tf\n",
        "\n",
        "# RNN\n",
        "tf.reset_default_graph()\n",
        "\n",
        "X = tf.placeholder(tf.float32, [None, num_time_steps, num_inputs], name = 'X')\n",
        "y = tf.placeholder(tf.float32, [None, num_time_steps, num_outputs], name = 'Y')\n",
        "tf_keepprob = tf.placeholder(tf.float32, name='tf_keepprob')\n",
        "\n",
        "#######################################################################################\n",
        "## GRUCell regularization\n",
        "save_name = './GG6_GRU_model'\n",
        "cells = tf.contrib.rnn.OutputProjectionWrapper(\n",
        "    tf.contrib.rnn.MultiRNNCell(\n",
        "        [tf.contrib.rnn.DropoutWrapper(\n",
        "            tf.contrib.rnn.GRUCell(num_neurons, activation = tf.nn.relu,\n",
        "                                   kernel_initializer = tf.contrib.layers.xavier_initializer()),\n",
        "            output_keep_prob=tf_keepprob)\n",
        "         for i in range(num_layers)]), output_size = num_outputs)\n",
        "\n",
        "## LSTMCell\n",
        "# save_name = './LSTM_model'\n",
        "# cells = tf.contrib.rnn.OutputProjectionWrapper(\n",
        "#     tf.contrib.rnn.MultiRNNCell(\n",
        "#         [tf.contrib.rnn.DropoutWrapper(\n",
        "#             tf.contrib.rnn.LSTMCell(num_neurons, activation = tf.nn.relu,\n",
        "#                                    initializer = tf.contrib.layers.xavier_initializer()),\n",
        "#             output_keep_prob=tf_keepprob)\n",
        "#          for i in range(num_layers)]), output_size = num_outputs)\n",
        "\n",
        "#######################################################################################\n",
        "\n",
        "outputs, states = tf.nn.dynamic_rnn(cells, X, dtype = tf.float32)\n",
        "\n",
        "loss = tf.reduce_mean(tf.square(outputs - y))\n",
        "optimizer = tf.train.AdamOptimizer(learning_rate = learning_rate)\n",
        "\n",
        "train = optimizer.minimize(loss)\n",
        "init = tf.global_variables_initializer()\n",
        "\n",
        "saver = tf.train.Saver()"
      ],
      "execution_count": 0,
      "outputs": []
    },
    {
      "metadata": {
        "id": "JsoJsEUxCnG-",
        "colab_type": "code",
        "colab": {
          "base_uri": "https://localhost:8080/",
          "height": 52
        },
        "outputId": "ff7e7f9c-f000-4e26-8788-c18b6d31f991"
      },
      "cell_type": "code",
      "source": [
        "## Train RNN model\n",
        "\n",
        "num_epochs = 2\n",
        "\n",
        "with tf.Session(config = tf.ConfigProto(gpu_options = gpu_options)) as sess:\n",
        "    \n",
        "    sess.run(init)\n",
        "    \n",
        "    count = 0\n",
        "    for i in range(num_epochs):\n",
        "        \n",
        "        solar_train = solar_train_origin_scale.copy()\n",
        "        \n",
        "        rand_start = np.random.permutation(len_train-num_time_steps)\n",
        "        avg_mse = 0\n",
        "        \n",
        "        for k in range(0, len_train-num_time_steps, batch_size):\n",
        "            \n",
        "            count = count + 1\n",
        "            \n",
        "            start = rand_start[k:k+batch_size]\n",
        "            X_batch, y_batch = get_batch(solar_train_origin_scale, num_time_steps, start)\n",
        "            sess.run(train, feed_dict={X:X_batch, y:y_batch, tf_keepprob:keepprob}) \n",
        "            y_pred = sess.run(outputs, feed_dict={X:X_batch, tf_keepprob:keepprob})\n",
        "            avg_mse += loss.eval(feed_dict={X:X_batch, y:y_batch, tf_keepprob:keepprob})\n",
        "        \n",
        "        avg_mse /= len(rand_start)\n",
        "        \n",
        "        if i%1 == 0:\n",
        "            print('epoch: {:3d}\\tMSE = {:.6f}'.format(i, avg_mse))\n",
        "\n",
        "    # Save Model for Later\n",
        "    saver.save(sess, save_name)"
      ],
      "execution_count": 35,
      "outputs": [
        {
          "output_type": "stream",
          "text": [
            "epoch:   0\tMSE = 0.000121\n",
            "epoch:   1\tMSE = 0.000071\n"
          ],
          "name": "stdout"
        }
      ]
    },
    {
      "metadata": {
        "id": "mfVAH78_OKQi",
        "colab_type": "code",
        "colab": {
          "base_uri": "https://localhost:8080/",
          "height": 1546
        },
        "outputId": "05bd3df7-5b7e-4c8e-c3a5-115f8673abe3"
      },
      "cell_type": "code",
      "source": [
        "y_pred"
      ],
      "execution_count": 36,
      "outputs": [
        {
          "output_type": "execute_result",
          "data": {
            "text/plain": [
              "array([[[-7.69241340e-03, -6.08861260e-03, -4.21374105e-03, ...,\n",
              "         -2.43159570e-03, -1.69994123e-03, -6.21543825e-03],\n",
              "        [-6.18407503e-04, -4.57845628e-04, -1.26254931e-03, ...,\n",
              "          2.37485394e-04,  3.59433889e-03,  1.80498883e-03],\n",
              "        [-6.06227666e-04,  4.87217680e-04,  4.07857820e-04, ...,\n",
              "          2.07399949e-04,  3.97234969e-03,  4.05087508e-03],\n",
              "        ...,\n",
              "        [-5.22829033e-03, -1.71868689e-03, -1.25695206e-03, ...,\n",
              "         -9.71043482e-04,  2.16949917e-03,  1.09061599e-03],\n",
              "        [-2.90828943e-03, -2.64848210e-03, -3.03804129e-03, ...,\n",
              "         -4.45330702e-03, -1.10160932e-03, -2.72766501e-03],\n",
              "        [-5.57666831e-03, -5.49878180e-03, -4.84537520e-03, ...,\n",
              "         -3.28867882e-03,  1.65484101e-03,  3.21096182e-03]],\n",
              "\n",
              "       [[ 3.06935757e-01,  3.18949431e-01,  3.34644914e-01, ...,\n",
              "          1.03773683e-01,  3.73240933e-02, -8.86680931e-03],\n",
              "        [ 3.80456805e-01,  4.05447841e-01,  3.23867589e-01, ...,\n",
              "          3.56055945e-02, -2.16737036e-02, -1.82242505e-02],\n",
              "        [ 3.75048876e-01,  3.02092999e-01,  1.30469799e-01, ...,\n",
              "         -4.98105213e-03, -4.30334173e-03,  2.40519382e-02],\n",
              "        ...,\n",
              "        [ 1.81019865e-03, -7.35139474e-04, -2.23417394e-03, ...,\n",
              "          5.51259145e-04,  2.55378895e-03, -8.89139250e-04],\n",
              "        [-2.82015093e-03, -1.45101361e-03, -1.50994025e-03, ...,\n",
              "         -2.21675634e-03,  7.93302432e-04, -5.72372228e-04],\n",
              "        [-6.67777471e-03, -5.52133285e-03, -5.80068119e-03, ...,\n",
              "         -6.11968338e-03, -1.96661800e-03, -1.86112151e-03]],\n",
              "\n",
              "       [[ 6.42701149e-01,  5.59757411e-01,  4.36462373e-01, ...,\n",
              "          2.94936597e-01,  2.19244361e-01,  6.60493672e-02],\n",
              "        [ 5.51703870e-01,  5.02728879e-01,  4.80414897e-01, ...,\n",
              "          1.72711179e-01,  4.69514057e-02,  1.43902982e-02],\n",
              "        [ 4.86467749e-01,  5.23158252e-01,  4.75081265e-01, ...,\n",
              "          5.66347316e-02,  1.84267852e-02, -3.09489667e-03],\n",
              "        ...,\n",
              "        [ 1.20606124e-02,  5.80529124e-03,  1.02807768e-03, ...,\n",
              "         -4.26446833e-03,  6.46796077e-04,  2.22490914e-03],\n",
              "        [ 3.71648371e-03, -3.11486050e-03, -4.63667139e-03, ...,\n",
              "         -9.82219353e-04,  4.65407595e-03,  5.74435852e-03],\n",
              "        [ 4.82784957e-03,  3.15468945e-03,  1.13280118e-03, ...,\n",
              "          2.05979124e-03,  5.90945035e-03,  4.17955965e-03]],\n",
              "\n",
              "       ...,\n",
              "\n",
              "       [[-5.49852289e-03, -5.06891683e-03, -2.80408002e-03, ...,\n",
              "          1.74058601e-04,  1.87813491e-03, -1.44629180e-03],\n",
              "        [ 4.37559001e-03,  3.59513983e-03,  3.80249321e-03, ...,\n",
              "          2.20254622e-03,  6.23593852e-03,  6.47223182e-03],\n",
              "        [ 1.65511146e-02,  1.63789690e-02,  1.41110569e-02, ...,\n",
              "          1.45429363e-02,  2.03880239e-02,  2.32744683e-02],\n",
              "        ...,\n",
              "        [ 9.82581079e-03,  1.24951601e-02,  1.84508916e-02, ...,\n",
              "          1.61245652e-02,  3.38154584e-02,  6.56795949e-02],\n",
              "        [ 5.55269420e-04,  7.71852769e-03,  9.36870743e-03, ...,\n",
              "          1.94188934e-02,  9.15393680e-02,  1.71521023e-01],\n",
              "        [ 1.30146565e-02,  1.74715761e-02,  3.37598100e-03, ...,\n",
              "          7.81940222e-02,  1.17440097e-01,  3.13462555e-01]],\n",
              "\n",
              "       [[ 3.24671343e-03,  3.07115354e-03,  3.73771787e-03, ...,\n",
              "          6.63507730e-04,  6.50745444e-03,  1.16619840e-03],\n",
              "        [ 1.07037649e-02,  7.10154697e-03,  3.68936360e-03, ...,\n",
              "          6.34946860e-03,  1.33188805e-02,  1.60989314e-02],\n",
              "        [ 1.93126500e-03,  2.05727480e-03,  2.36782432e-03, ...,\n",
              "          2.36965343e-03,  6.16251864e-03,  7.62587599e-03],\n",
              "        ...,\n",
              "        [ 6.19029999e-03,  6.68007135e-03,  5.88937104e-03, ...,\n",
              "          3.52021493e-03,  5.42200729e-03,  1.89588964e-03],\n",
              "        [ 9.54239629e-03,  8.22804309e-03,  6.15073834e-03, ...,\n",
              "          7.88602605e-03,  1.13480184e-02,  8.48549046e-03],\n",
              "        [ 5.05893677e-03,  5.10303862e-03,  3.31811793e-03, ...,\n",
              "          5.12301736e-03,  9.95452330e-03,  1.00331064e-02]],\n",
              "\n",
              "       [[ 1.68730453e-01,  1.27949417e-01,  5.88606857e-02, ...,\n",
              "         -1.08328033e-02, -2.58689187e-03,  7.55137391e-03],\n",
              "        [ 1.05221383e-01,  5.52407801e-02,  2.07790080e-02, ...,\n",
              "         -6.56096078e-03, -7.57598691e-03, -7.15249032e-03],\n",
              "        [ 5.66788875e-02,  2.59922482e-02,  1.74342282e-03, ...,\n",
              "         -6.18896075e-03, -1.44982897e-03, -3.14720348e-03],\n",
              "        ...,\n",
              "        [-2.13546120e-03, -3.00070830e-03, -3.43400985e-03, ...,\n",
              "         -3.34868021e-03,  6.66206703e-04, -1.35894865e-04],\n",
              "        [-6.29645772e-03, -5.70132956e-03, -5.04985824e-03, ...,\n",
              "         -4.52815741e-03, -6.48694113e-04, -1.79744512e-03],\n",
              "        [ 1.10347718e-02,  1.11472085e-02,  9.06351581e-03, ...,\n",
              "          9.74786188e-03,  1.50667541e-02,  1.70922205e-02]]],\n",
              "      dtype=float32)"
            ]
          },
          "metadata": {
            "tags": []
          },
          "execution_count": 36
        }
      ]
    },
    {
      "metadata": {
        "id": "JgT0owsZPDHh",
        "colab_type": "code",
        "colab": {
          "base_uri": "https://localhost:8080/",
          "height": 35
        },
        "outputId": "2ddb7cea-134c-47c6-e9ff-91c571537d19"
      },
      "cell_type": "code",
      "source": [
        "y_pred.shape"
      ],
      "execution_count": 37,
      "outputs": [
        {
          "output_type": "execute_result",
          "data": {
            "text/plain": [
              "(22, 12, 8)"
            ]
          },
          "metadata": {
            "tags": []
          },
          "execution_count": 37
        }
      ]
    },
    {
      "metadata": {
        "id": "T9OJZYubPMop",
        "colab_type": "text"
      },
      "cell_type": "markdown",
      "source": [
        "# 5.1 Train and Test 1 step ahead evaluation"
      ]
    },
    {
      "metadata": {
        "id": "VI35v_Z7PFcw",
        "colab_type": "code",
        "colab": {
          "base_uri": "https://localhost:8080/",
          "height": 52
        },
        "outputId": "4b125b70-0e4c-4d85-fe82-1900b949c14f"
      },
      "cell_type": "code",
      "source": [
        "## Train Forecast steps evaluation\n",
        "\n",
        "with tf.Session() as sess:\n",
        "    \n",
        "    saver.restore(sess, save_name)\n",
        "    \n",
        "    train_seed = solar_train_origin_scale[:num_time_steps,:].copy()\n",
        "    y_train_prediction = []\n",
        "    \n",
        "    avg_mse = 0\n",
        "    count = 0\n",
        "\n",
        "    for k in range(num_time_steps, solar_train.shape[0]-1):\n",
        "\n",
        "        last_train = np.array(train_seed[-num_time_steps:,:-7]).reshape(-1, num_time_steps, 12).copy()\n",
        "        y_pred = sess.run(outputs, feed_dict={X:last_train, tf_keepprob:1})\n",
        "            \n",
        "        train_seed = solar_train_origin_scale[:k+1, :].copy()\n",
        "            \n",
        "        y_train_prediction.append(y_pred[0, -1, :])\n",
        "        \n",
        "    print('Complete')"
      ],
      "execution_count": 38,
      "outputs": [
        {
          "output_type": "stream",
          "text": [
            "INFO:tensorflow:Restoring parameters from ./GG6_GRU_model\n",
            "Complete\n"
          ],
          "name": "stdout"
        }
      ]
    },
    {
      "metadata": {
        "id": "-uvslN2aPOUu",
        "colab_type": "code",
        "colab": {
          "base_uri": "https://localhost:8080/",
          "height": 35
        },
        "outputId": "5520a1ba-bac6-441c-b9a2-cbef054abcf9"
      },
      "cell_type": "code",
      "source": [
        "# evaluate on train set\n",
        "y_train_rescale = inverse_transform(np.array(y_train_prediction) , scaler)\n",
        "solar_train_rescale = inverse_transform(solar_train_origin_scale[:,-8:] , scaler)\n",
        "\n",
        "rmse = np.sqrt(np.mean(np.square(y_train_rescale - solar_train_rescale[num_time_steps+1:])))\n",
        "print('RMSE = {:.6f}'.format(rmse))"
      ],
      "execution_count": 39,
      "outputs": [
        {
          "output_type": "stream",
          "text": [
            "RMSE = 0.502812\n"
          ],
          "name": "stdout"
        }
      ]
    },
    {
      "metadata": {
        "id": "hpSE1VMiPs-I",
        "colab_type": "code",
        "colab": {
          "base_uri": "https://localhost:8080/",
          "height": 297
        },
        "outputId": "c64459c4-35d2-4fc5-d6b3-680fef0dd990"
      },
      "cell_type": "code",
      "source": [
        "plt.plot(y_train_rescale[-1300:-1100], label='train prediction 1 step ahead')\n",
        "plt.plot(solar_train_rescale[-1300:-1100], label='train true value')\n",
        "plt.legend()"
      ],
      "execution_count": 42,
      "outputs": [
        {
          "output_type": "execute_result",
          "data": {
            "text/plain": [
              "<matplotlib.legend.Legend at 0x7f22d4945b00>"
            ]
          },
          "metadata": {
            "tags": []
          },
          "execution_count": 42
        },
        {
          "output_type": "display_data",
          "data": {
            "image/png": "[encoded data removed]",
            "text/plain": [
              "<matplotlib.figure.Figure at 0x7f22d6b44c88>"
            ]
          },
          "metadata": {
            "tags": []
          }
        }
      ]
    },
    {
      "metadata": {
        "id": "hb9OOxf6PzGN",
        "colab_type": "code",
        "colab": {
          "base_uri": "https://localhost:8080/",
          "height": 52
        },
        "outputId": "3062a5e0-7cb3-45f6-f328-35a852e323a0"
      },
      "cell_type": "code",
      "source": [
        "## Test 1 step ahead evaluation\n",
        "\n",
        "with tf.Session() as sess:\n",
        "    \n",
        "    saver.restore(sess, save_name)\n",
        "    \n",
        "    train_seed = solar_test_origin_scale[:num_time_steps,:].copy()\n",
        "    y_test_prediction = []\n",
        "    \n",
        "    avg_mse = 0\n",
        "    count = 0\n",
        "\n",
        "    for k in range(num_time_steps, solar_test_origin_scale.shape[0]-1):\n",
        "\n",
        "        #last_train = np.array(train_seed[-num_time_steps:,:-5]).reshape(-1, num_time_steps, 9).copy() #use last type\n",
        "        last_train = np.array(train_seed[-num_time_steps:,:-7]).reshape(-1, num_time_steps, 12).copy() #use last type\n",
        "        y_pred = sess.run(outputs, feed_dict={X:last_train, tf_keepprob:1})\n",
        "        \n",
        "        train_seed = solar_test_origin_scale[:k+1, :].copy()\n",
        "            \n",
        "        y_test_prediction.append(y_pred[0, -1, :].copy())\n",
        "        \n",
        "    print('Complete')\n",
        "        "
      ],
      "execution_count": 43,
      "outputs": [
        {
          "output_type": "stream",
          "text": [
            "INFO:tensorflow:Restoring parameters from ./GG6_GRU_model\n",
            "Complete\n"
          ],
          "name": "stdout"
        }
      ]
    },
    {
      "metadata": {
        "id": "UFZxnCIyQeIx",
        "colab_type": "code",
        "colab": {
          "base_uri": "https://localhost:8080/",
          "height": 35
        },
        "outputId": "46d78dc8-4a10-4459-8066-f2321c8d9ff2"
      },
      "cell_type": "code",
      "source": [
        "# evaluate on test set\n",
        "y_test_rescale = inverse_transform(np.array(y_test_prediction) , scaler)\n",
        "solar_test_rescale = inverse_transform(solar_test_origin_scale[:,-8:] , scaler)\n",
        "\n",
        "rmse = np.sqrt(np.mean(np.square(y_test_rescale  - solar_test_rescale[num_time_steps+1:])))\n",
        "print('RMSE = {:.6f}'.format(rmse))"
      ],
      "execution_count": 44,
      "outputs": [
        {
          "output_type": "stream",
          "text": [
            "RMSE = 0.448765\n"
          ],
          "name": "stdout"
        }
      ]
    },
    {
      "metadata": {
        "id": "SGqFU7Q7QrsC",
        "colab_type": "code",
        "colab": {}
      },
      "cell_type": "code",
      "source": [
        "y_train_rescale\n",
        "y_test_rescale\n",
        "\n",
        "df_train = pd.DataFrame(y_train_rescale, columns=['Power prediction','30min Power prediction','60min Power prediction','90min Power prediction','120min Power prediction','150min Power prediction','180min Power prediction','210min Power prediction'])\n",
        "df_test = pd.DataFrame(y_test_rescale, columns=['Power prediction','30min Power prediction','60min Power prediction','90min Power prediction','120min Power prediction','150min Power prediction','180min Power prediction','210min Power prediction'])\n",
        "df_test_target = pd.DataFrame(solar_test_rescale, columns=['Power target','30min Power target','60min Power target','90min Power target','120min Power target','150min Power target','180min Power target','210min Power target'])\n",
        "df_train_target = pd.DataFrame(solar_train_rescale, columns=['Power target','30min Power target','60min Power target','90min Power target','120min Power target','150min Power target','180min Power target','210min Power target'])\n",
        "\n",
        "\n",
        "df_train.to_csv('GG5_train_eecu.csv')\n",
        "df_test.to_csv('GG5_test_eecu.csv')\n",
        "df_test_target.to_csv('GG4_60min_test_target_eecu.csv')\n",
        "df_train_target.to_csv('GG4_60min_train_target_eecu.csv')\n",
        "\n",
        "\n",
        "from google.colab import files\n",
        "files.download('GG5_train_eecu.csv')\n",
        "files.download('GG5_test_eecu.csv')\n",
        "files.download('GG4_60min_test_target_eecu.csv')\n",
        "files.download('GG4_60min_train_target_eecu.csv')"
      ],
      "execution_count": 0,
      "outputs": []
    },
    {
      "metadata": {
        "id": "1SqLoSbjQ0DJ",
        "colab_type": "text"
      },
      "cell_type": "markdown",
      "source": [
        "# 5.2 Train and Test forecast steps evaluation"
      ]
    },
    {
      "metadata": {
        "id": "yk1Z1Sq-Qua0",
        "colab_type": "code",
        "colab": {
          "base_uri": "https://localhost:8080/",
          "height": 52
        },
        "outputId": "52ec2cd7-5c86-4152-ea7a-1d55bc1a9c4f"
      },
      "cell_type": "code",
      "source": [
        "## Train Forecast steps evaluation\n",
        "\n",
        "with tf.Session() as sess:\n",
        "    \n",
        "    saver.restore(sess, save_name)\n",
        "    \n",
        "    train_seed = solar_train_origin_scale[:num_time_steps,:].copy()\n",
        "    y_train_prediction = []\n",
        "    \n",
        "    avg_mse = 0\n",
        "    count = 0\n",
        "\n",
        "    for k in range(num_time_steps, solar_train.shape[0]-1):\n",
        "\n",
        "        #last_train = np.array(train_seed[-num_time_steps:,:]).reshape(-1, num_time_steps, 3).copy()\n",
        "        last_train = np.array(train_seed[-num_time_steps:,:-7]).reshape(-1, num_time_steps, 12).copy()\n",
        "        y_pred = sess.run(outputs, feed_dict={X:last_train, tf_keepprob:1})\n",
        "        \n",
        "        if count == forecast_steps:\n",
        "            \n",
        "            train_seed = solar_train_origin_scale[:k+1, :].copy()\n",
        "            count = 0\n",
        "        \n",
        "        else:\n",
        "            train_seed = solar_train_origin_scale[:k+1, :].copy()\n",
        "            train_seed[-1, 0] = y_pred[0, -1, 0].copy()\n",
        "        \n",
        "            count += 1\n",
        "            \n",
        "        y_train_prediction.append(y_pred[0, -1, 0])\n",
        "      \n",
        "    print('Complete')"
      ],
      "execution_count": 46,
      "outputs": [
        {
          "output_type": "stream",
          "text": [
            "INFO:tensorflow:Restoring parameters from ./GG6_GRU_model\n",
            "Complete\n"
          ],
          "name": "stdout"
        }
      ]
    },
    {
      "metadata": {
        "id": "0AgxixhLQ1hw",
        "colab_type": "code",
        "colab": {
          "base_uri": "https://localhost:8080/",
          "height": 35
        },
        "outputId": "ba936444-bace-441a-fc96-0057e95224a5"
      },
      "cell_type": "code",
      "source": [
        "# forecast step train eval\n",
        "rmse = np.sqrt(np.mean(np.square(np.array(y_train_prediction) - solar_train[num_time_steps+1:,2])))\n",
        "print('RMSE = {:.6f}'.format(rmse))"
      ],
      "execution_count": 47,
      "outputs": [
        {
          "output_type": "stream",
          "text": [
            "RMSE = 0.157681\n"
          ],
          "name": "stdout"
        }
      ]
    },
    {
      "metadata": {
        "id": "RelQNeLzROLU",
        "colab_type": "code",
        "colab": {
          "base_uri": "https://localhost:8080/",
          "height": 283
        },
        "outputId": "b9863b54-4288-4b2c-97ec-e9b667172806"
      },
      "cell_type": "code",
      "source": [
        "plt.plot(y_train_prediction[-2000:-1700], label='prediction')\n",
        "plt.plot(solar_train[-2000:-1700,0], label='true value')\n",
        "plt.legend()"
      ],
      "execution_count": 48,
      "outputs": [
        {
          "output_type": "execute_result",
          "data": {
            "text/plain": [
              "<matplotlib.legend.Legend at 0x7f22d889bf28>"
            ]
          },
          "metadata": {
            "tags": []
          },
          "execution_count": 48
        },
        {
          "output_type": "display_data",
          "data": {
            "image/png": "[encoded data removed]",
            "text/plain": [
              "<matplotlib.figure.Figure at 0x7f22d4895470>"
            ]
          },
          "metadata": {
            "tags": []
          }
        }
      ]
    },
    {
      "metadata": {
        "id": "QxNfZdOnRP67",
        "colab_type": "code",
        "colab": {
          "base_uri": "https://localhost:8080/",
          "height": 52
        },
        "outputId": "52ed90a5-9cb2-4810-812b-5778b19f238e"
      },
      "cell_type": "code",
      "source": [
        "## Test Forecast steps evaluation\n",
        "\n",
        "with tf.Session() as sess:\n",
        "    \n",
        "    saver.restore(sess, save_name)\n",
        "    \n",
        "    train_seed = solar_test_origin_scale[:num_time_steps,:].copy()\n",
        "    y_test_prediction = []\n",
        "    \n",
        "    avg_mse = 0\n",
        "    count = 0\n",
        "\n",
        "    for k in range(num_time_steps, solar_test_origin_scale.shape[0]-1):\n",
        "\n",
        "        #last_train = np.array(train_seed[-num_time_steps:,:]).reshape(-1, num_time_steps, 4).copy()\n",
        "        last_train = np.array(train_seed[-num_time_steps:,:-7]).reshape(-1, num_time_steps, 12).copy()\n",
        "        y_pred = sess.run(outputs, feed_dict={X:last_train, tf_keepprob:1})\n",
        "        \n",
        "        if count == forecast_steps:\n",
        "           \n",
        "            train_seed = solar_test_origin_scale[:k+1, :].copy()\n",
        "            count = 0\n",
        "        \n",
        "        else:\n",
        "#             train_seed[num_time_steps+1:k+num_time_steps, :] = solar_train[:k, :]\n",
        "            train_seed = solar_test_origin_scale[:k+1, :].copy()\n",
        "            train_seed[-1, 0] = y_pred[0, -1, 0].copy()\n",
        "        \n",
        "            count += 1\n",
        "            \n",
        "        y_test_prediction.append(y_pred[0, -1, 0].copy())\n",
        "        \n",
        "    print('Complete')\n"
      ],
      "execution_count": 49,
      "outputs": [
        {
          "output_type": "stream",
          "text": [
            "INFO:tensorflow:Restoring parameters from ./GG6_GRU_model\n",
            "Complete\n"
          ],
          "name": "stdout"
        }
      ]
    },
    {
      "metadata": {
        "id": "ls_etfIDRSEi",
        "colab_type": "code",
        "colab": {
          "base_uri": "https://localhost:8080/",
          "height": 35
        },
        "outputId": "432f6bdd-d6ac-4e86-9b76-768128f18751"
      },
      "cell_type": "code",
      "source": [
        "# forecast steps test eval\n",
        "rmse = np.sqrt(np.mean(np.square(np.array(y_test_prediction) - solar_test_origin_scale[num_time_steps+1:,0])))\n",
        "print('RMSE = {:.6f}'.format(rmse))"
      ],
      "execution_count": 50,
      "outputs": [
        {
          "output_type": "stream",
          "text": [
            "RMSE = 0.084241\n"
          ],
          "name": "stdout"
        }
      ]
    },
    {
      "metadata": {
        "id": "Ltl-SId0R-Mq",
        "colab_type": "code",
        "colab": {
          "base_uri": "https://localhost:8080/",
          "height": 283
        },
        "outputId": "f9b8093a-0d86-41a1-bc1d-2fb6427576e0"
      },
      "cell_type": "code",
      "source": [
        "plt.plot(y_test_prediction[-1600:-1200], label='prediction')\n",
        "plt.plot(solar_test_origin_scale[-1600:-1200,0], label='true value')\n",
        "plt.legend()"
      ],
      "execution_count": 51,
      "outputs": [
        {
          "output_type": "execute_result",
          "data": {
            "text/plain": [
              "<matplotlib.legend.Legend at 0x7f22d88c1dd8>"
            ]
          },
          "metadata": {
            "tags": []
          },
          "execution_count": 51
        },
        {
          "output_type": "display_data",
          "data": {
            "image/png": "[encoded data removed]",
            "text/plain": [
              "<matplotlib.figure.Figure at 0x7f22d4873390>"
            ]
          },
          "metadata": {
            "tags": []
          }
        }
      ]
    },
    {
      "metadata": {
        "id": "d7xmj3ZiSJLj",
        "colab_type": "code",
        "colab": {}
      },
      "cell_type": "code",
      "source": [
        ""
      ],
      "execution_count": 0,
      "outputs": []
    }
  ]
}